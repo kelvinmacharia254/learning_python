{
 "cells": [
  {
   "cell_type": "code",
   "execution_count": 1,
   "id": "79bef7a6-89db-4e09-a40b-79e6c6a75a33",
   "metadata": {},
   "outputs": [
    {
     "data": {
      "text/plain": [
       "True"
      ]
     },
     "execution_count": 1,
     "metadata": {},
     "output_type": "execute_result"
    }
   ],
   "source": [
    "# Matching using the 'in' operator\n",
    "s = \"foo123bar\"\n",
    "\"123\" in s # True if substring is present"
   ]
  },
  {
   "cell_type": "code",
   "execution_count": 2,
   "id": "cfe8b5dd-7f8d-4988-904e-3759be168de7",
   "metadata": {},
   "outputs": [
    {
     "data": {
      "text/plain": [
       "3"
      ]
     },
     "execution_count": 2,
     "metadata": {},
     "output_type": "execute_result"
    }
   ],
   "source": [
    "# Matching using string functions\n",
    "s = \"foo123bar\"\n",
    "s.find(\"123\") # returns the start index of the substring if present"
   ]
  },
  {
   "cell_type": "markdown",
   "id": "51e6a8ff-9912-4900-8b39-9b510887bfb2",
   "metadata": {},
   "source": [
    "The above cases are simple, this works but not for more complex cases. Possible we may have to write verbose unecessary code. \n",
    "The regex comes in handy for solving cases. No need to reinvent the wheel."
   ]
  },
  {
   "cell_type": "markdown",
   "id": "f44ef0c0-4447-4d41-83a3-2bba584e6084",
   "metadata": {},
   "source": [
    "# The re Module\n",
    "\n",
    "re module is a standard library module, it provides this Regex functionality.\n",
    "\n",
    "## `re.search(<regex/>, <string>)`\n",
    "\n",
    "The search functon scans a string for the first location of regex match, if found it returns match object or None if note found.\n",
    "It is the most simple of all functions in the re module.\n",
    "\n",
    "### Example: Simple case that work with the 'in' operator and string functions\n"
   ]
  },
  {
   "cell_type": "code",
   "execution_count": 3,
   "id": "3cc37fef-17bb-4487-b876-c397c6dae559",
   "metadata": {},
   "outputs": [
    {
     "data": {
      "text/plain": [
       "<re.Match object; span=(3, 6), match='123'>"
      ]
     },
     "execution_count": 3,
     "metadata": {},
     "output_type": "execute_result"
    }
   ],
   "source": [
    "# character by character match\n",
    "import re\n",
    "s = 'foo123bar'\n",
    "re.search(\"123\", s) # returns a match object if substring is found otherwise None"
   ]
  },
  {
   "cell_type": "code",
   "execution_count": 4,
   "id": "f819dfbc-cd44-43a5-9dcb-f166a8e5520a",
   "metadata": {},
   "outputs": [
    {
     "name": "stdout",
     "output_type": "stream",
     "text": [
      "Found a match.\n"
     ]
    }
   ],
   "source": [
    "# match object is truthy, so it can be used in a Boolean context like with conditionals\n",
    "if re.search(\"123\", s):\n",
    "    print(\"Found a match.\")\n",
    "else:\n",
    "    print(\"No match found.\")"
   ]
  },
  {
   "cell_type": "code",
   "execution_count": 5,
   "id": "3398b81a-7e35-40b8-b21f-aab7bc11874f",
   "metadata": {},
   "outputs": [
    {
     "name": "stdout",
     "output_type": "stream",
     "text": [
      "No match found\n"
     ]
    }
   ],
   "source": [
    "# match object is truthy, so it can be used in a Boolean context like with conditionals\n",
    "if re.search(\"1224\", s):\n",
    "    print(\"Found a match\")\n",
    "else:\n",
    "    print(\"No match found\")"
   ]
  },
  {
   "cell_type": "markdown",
   "id": "95bc8864-b1de-49b7-b7eb-b93d6f67134c",
   "metadata": {},
   "source": [
    "## Regex Metacharacters\n",
    "We can go a step higher with regex, instead of matching character by character we can use metacharacters to create flexible and \n",
    "generic patterns to be matched in the input strings. Application can include input validation and more where can define generic panel for emails address, phone numbers etc such user must follow the requirements\n",
    "\n",
    "All regex metacharaters:\n",
    "1. dot(.) - matches any single characters except a newline\n",
    "2. Caret(^) - anchors a match at the begining of a string and complements a character class defined by angle brackets\n",
    "3. Dollar($) - anchors a match at the end of a string.\n",
    "4. Asterisk(*) - Matches zero or more repetitions.\n",
    "5. Plus(+) - Matches one or more repetitions.\n",
    "6. Question Mark(?) - Matches zero or one repetiton(non-greedy version of * and +).\n",
    "7. Curly braces - Matches an explicitly specified number of repetitions in between the braces\n",
    "8. Backslash(\\) - Escapes metacharacters meaning in a regex defination but ensuring meaning are lite\n",
    "9. Angle brackets ([]) - character class\n",
    "10. Pipe (|) -\n",
    "11. Brackets () - Creates a group.\n",
    "12. :, #, =, ! - Specilized group\n",
    "13. <> - creates named group\n",
    "\n",
    "## Regex metacharacters that matches a single character\n",
    "\n",
    "### 1.  Square brackets ([])\n",
    "-  Square brackets [] defines a character class.  A character class matches any single character in the string"
   ]
  },
  {
   "cell_type": "code",
   "execution_count": 6,
   "id": "93a78a13-6cd5-4834-9b4e-07e31abb0223",
   "metadata": {},
   "outputs": [
    {
     "data": {
      "text/plain": [
       "<re.Match object; span=(3, 6), match='123'>"
      ]
     },
     "execution_count": 6,
     "metadata": {},
     "output_type": "execute_result"
    }
   ],
   "source": [
    "s = 'foo123bar'\n",
    "re.search('[0-9][0-9][0-9]', s) # generic pattern to match any three consecutive decimal digits"
   ]
  },
  {
   "cell_type": "code",
   "execution_count": 7,
   "id": "b11441a6-c9a2-4009-b575-e459506bf74f",
   "metadata": {},
   "outputs": [
    {
     "data": {
      "text/plain": [
       "<re.Match object; span=(3, 6), match='456'>"
      ]
     },
     "execution_count": 7,
     "metadata": {},
     "output_type": "execute_result"
    }
   ],
   "source": [
    "# works for any other string to find any three consecutive decimal digits\n",
    "s = 'foo456bar'\n",
    "re.search('[0-9][0-9][0-9]', s) # [0-9] is a range that matches a single character on the 0 to 9 range. "
   ]
  },
  {
   "cell_type": "code",
   "execution_count": 8,
   "id": "ba38cea1-17b6-437e-b392-a71607430b62",
   "metadata": {},
   "outputs": [
    {
     "name": "stdout",
     "output_type": "stream",
     "text": [
      "None\n"
     ]
    }
   ],
   "source": [
    "# None is returned if the string doesn't contain the pattern\n",
    "s = '12foo46bar'\n",
    "print(re.search('[0-9][0-9][0-9]', s)) "
   ]
  },
  {
   "cell_type": "code",
   "execution_count": 9,
   "id": "f1695442-7c19-4a21-ab2a-8dd676bbbbaf",
   "metadata": {},
   "outputs": [
    {
     "data": {
      "text/plain": [
       "<re.Match object; span=(0, 8), match='Goodluck'>"
      ]
     },
     "execution_count": 9,
     "metadata": {},
     "output_type": "execute_result"
    }
   ],
   "source": [
    "# alphabet range\n",
    "s = 'Goodluck'\n",
    "re.search('Good[a-z][a-z][a-z][a-z]', s) "
   ]
  },
  {
   "cell_type": "code",
   "execution_count": 10,
   "id": "ff8ca018-b948-4e17-b4ca-867554dcb06d",
   "metadata": {},
   "outputs": [
    {
     "data": {
      "text/plain": [
       "<re.Match object; span=(0, 1), match='k'>"
      ]
     },
     "execution_count": 10,
     "metadata": {},
     "output_type": "execute_result"
    }
   ],
   "source": [
    "# specific character match\n",
    "# The pattern finds whether the name has a single character which is 'k', 'c' or 'q' anywhere in the string\n",
    "s = \"kelvin\"\n",
    "re.search(\"[kcq]\",s) "
   ]
  },
  {
   "cell_type": "code",
   "execution_count": 11,
   "id": "50046a80-0560-4ccc-96c6-709eca1e0296",
   "metadata": {},
   "outputs": [
    {
     "data": {
      "text/plain": [
       "<re.Match object; span=(0, 1), match='c'>"
      ]
     },
     "execution_count": 11,
     "metadata": {},
     "output_type": "execute_result"
    }
   ],
   "source": [
    "# matches single first occcurence of any of the characters in the character class(leftmost possible match).\n",
    "s = \"celvink\"\n",
    "re.search(\"[kcq]\",s) "
   ]
  },
  {
   "cell_type": "code",
   "execution_count": 12,
   "id": "5ed08fde-e8a8-43bf-8be6-93534445a48f",
   "metadata": {},
   "outputs": [
    {
     "data": {
      "text/plain": [
       "<re.Match object; span=(3, 4), match='a'>"
      ]
     },
     "execution_count": 12,
     "metadata": {},
     "output_type": "execute_result"
    }
   ],
   "source": [
    "# muitiple range character class.\n",
    "s = \"---a0---\"\n",
    "re.search(\"[0-9a-zA-F]\",s) # matches any hexadecimal digit character in the string"
   ]
  },
  {
   "cell_type": "markdown",
   "id": "e83d7085-7d7a-4a66-a516-40ce3b24fbd4",
   "metadata": {},
   "source": [
    "As observed, this would be difficult when using the 'in' operator or string methods."
   ]
  },
  {
   "cell_type": "markdown",
   "id": "28a39ee6-6a67-46ae-862c-a07e2d062bd0",
   "metadata": {},
   "source": [
    "We can go further to complement a character class with other metacharacters\n",
    "\n",
    "### Complementing with caret ^\n",
    "\n",
    "    The caret (`^`) negates a character class, making it match anything *except* the specified characters."
   ]
  },
  {
   "cell_type": "code",
   "execution_count": 13,
   "id": "784c10b0-63d0-4707-a547-6c767019296a",
   "metadata": {},
   "outputs": [
    {
     "data": {
      "text/plain": [
       "<re.Match object; span=(5, 6), match='f'>"
      ]
     },
     "execution_count": 13,
     "metadata": {},
     "output_type": "execute_result"
    }
   ],
   "source": [
    "# Complementing a character class with caret ^\n",
    "re.search('[^0-9]', '12345foo') # matches any character that is not a decimal digit "
   ]
  },
  {
   "cell_type": "code",
   "execution_count": 14,
   "id": "2429097f-d357-4f66-bd48-54c08df439c8",
   "metadata": {},
   "outputs": [
    {
     "data": {
      "text/plain": [
       "<re.Match object; span=(3, 4), match='^'>"
      ]
     },
     "execution_count": 14,
     "metadata": {},
     "output_type": "execute_result"
    }
   ],
   "source": [
    "# if the caret appears anywhere in the regex pattern except the first character, it has no special meaning, it is taken literally.\n",
    "re.search('[#:^]', 'foo^bar:baz#qux') # caret appears found as the 4th character in the string."
   ]
  },
  {
   "cell_type": "markdown",
   "id": "caf546c9-21e6-4aed-b2ed-b86c68b2cfaa",
   "metadata": {},
   "source": [
    "### Metacharacters lose meaning inside a character class\n",
    "\n",
    "Metacharacters placed inside a character class have no special meaning and only match as themselves as literal characters."
   ]
  },
  {
   "cell_type": "code",
   "execution_count": 15,
   "id": "bcfec74c-ed23-48cb-b51d-1bbd5dbad00a",
   "metadata": {},
   "outputs": [
    {
     "data": {
      "text/plain": [
       "<re.Match object; span=(3, 4), match='*'>"
      ]
     },
     "execution_count": 15,
     "metadata": {},
     "output_type": "execute_result"
    }
   ],
   "source": [
    "re.search('[)*+|]', '123*456') # '*' is found in the string as literal at index 3"
   ]
  },
  {
   "cell_type": "code",
   "execution_count": 16,
   "id": "112c7bd9-cd5d-4fd3-81c5-4cc518b415c2",
   "metadata": {},
   "outputs": [
    {
     "data": {
      "text/plain": [
       "<re.Match object; span=(3, 4), match='+'>"
      ]
     },
     "execution_count": 16,
     "metadata": {},
     "output_type": "execute_result"
    }
   ],
   "source": [
    "re.search('[)*+|]', '123+456') # '+' is found in the string as literal at index 3"
   ]
  },
  {
   "cell_type": "code",
   "execution_count": 17,
   "id": "6a9b7d39-4b71-4463-a303-079903899e3b",
   "metadata": {},
   "outputs": [
    {
     "data": {
      "text/plain": [
       "<re.Match object; span=(4, 5), match='^'>"
      ]
     },
     "execution_count": 17,
     "metadata": {},
     "output_type": "execute_result"
    }
   ],
   "source": [
    "re.search('[)*^|]', '123+^456') # '^' is found in the string as literal at index 3"
   ]
  },
  {
   "cell_type": "markdown",
   "id": "421b9d29-beab-4823-b0f9-d5d251f37ea6",
   "metadata": {},
   "source": [
    "### 2.  dot (.) (aka  wildcard)\n",
    "-  The dot matches any single charater except a newline."
   ]
  },
  {
   "cell_type": "code",
   "execution_count": 18,
   "id": "f1a20497-592e-41a6-8089-2d7ad6b895b5",
   "metadata": {},
   "outputs": [
    {
     "data": {
      "text/plain": [
       "<re.Match object; span=(3, 6), match='123'>"
      ]
     },
     "execution_count": 18,
     "metadata": {},
     "output_type": "execute_result"
    }
   ],
   "source": [
    "s = 'foo123bar'\n",
    "re.search('1.3', s) # matches because 1 & 3 and there is a character in between which is not a newline"
   ]
  },
  {
   "cell_type": "code",
   "execution_count": 19,
   "id": "f34163e0-8a6a-4c13-9034-1023c018c56c",
   "metadata": {},
   "outputs": [
    {
     "name": "stdout",
     "output_type": "stream",
     "text": [
      "None\n"
     ]
    }
   ],
   "source": [
    "s = 'foo13bar'\n",
    "print(re.search('1.3', s)) # return None because there is no character between 1 & 3 in the string"
   ]
  },
  {
   "cell_type": "code",
   "execution_count": 20,
   "id": "66c75cdb-850d-4b00-bb6e-aaaca758bf0a",
   "metadata": {},
   "outputs": [
    {
     "name": "stdout",
     "output_type": "stream",
     "text": [
      "None\n"
     ]
    }
   ],
   "source": [
    "s = 'foo1\\n3bar'\n",
    "print(re.search('1.3', s)) # return None because the character between 1 & 3 is a newline\n",
    "# we can force (.) match nowline if we need to"
   ]
  },
  {
   "cell_type": "markdown",
   "id": "721e4e53-9840-48a2-9f49-f2c11d3efcd0",
   "metadata": {},
   "source": [
    "### 3. \\w  (lowercase 'w')\n",
    "   Matches any alphanumeric word character. \n",
    "   \n",
    "   These includes: uppercase and lowercase, digits and the underscore.\n",
    "   \n",
    "   If we used a character class we would define as [a-zA-Z0-9_] "
   ]
  },
  {
   "cell_type": "code",
   "execution_count": 21,
   "id": "410d26a9-55fe-4347-8f6a-7d3fe5be8f9c",
   "metadata": {},
   "outputs": [
    {
     "data": {
      "text/plain": [
       "<re.Match object; span=(3, 4), match='a'>"
      ]
     },
     "execution_count": 21,
     "metadata": {},
     "output_type": "execute_result"
    }
   ],
   "source": [
    "# using \\w\n",
    "str = \"#(.a$@&\"\n",
    "re.search(r'\\w', str)"
   ]
  },
  {
   "cell_type": "code",
   "execution_count": 22,
   "id": "cefb09da-ec3e-4b9d-b0c3-8a0430a03e96",
   "metadata": {},
   "outputs": [
    {
     "data": {
      "text/plain": [
       "<re.Match object; span=(3, 4), match='a'>"
      ]
     },
     "execution_count": 22,
     "metadata": {},
     "output_type": "execute_result"
    }
   ],
   "source": [
    "# same result if we use a character class\n",
    "str = \"#(.a$@&\"\n",
    "re.search('[a-zA-Z0-9_]', str)"
   ]
  },
  {
   "cell_type": "markdown",
   "id": "71681135-bd87-4e07-bbb4-bb89d8ac0bd4",
   "metadata": {},
   "source": [
    "### 4. \\W (uppercase 'W')\n",
    "\n",
    "    Matches all non- word characters, equivalent to [^a-zA-z0-9_] character class\n"
   ]
  },
  {
   "cell_type": "code",
   "execution_count": 23,
   "id": "605504f7-2ad0-4d65-88b6-4d6a9c002de3",
   "metadata": {},
   "outputs": [
    {
     "data": {
      "text/plain": [
       "<re.Match object; span=(3, 4), match='*'>"
      ]
     },
     "execution_count": 23,
     "metadata": {},
     "output_type": "execute_result"
    }
   ],
   "source": [
    "# using \\W\n",
    "re.search(r'\\W', 'a_1*3Qb') # find '*' at index 3 because it is non-word character"
   ]
  },
  {
   "cell_type": "code",
   "execution_count": 24,
   "id": "120f8a9a-0390-4a2d-99ee-c5a0af5a2431",
   "metadata": {},
   "outputs": [
    {
     "data": {
      "text/plain": [
       "<re.Match object; span=(3, 4), match='*'>"
      ]
     },
     "execution_count": 24,
     "metadata": {},
     "output_type": "execute_result"
    }
   ],
   "source": [
    "# using [^a-zA-z0-9_] character class\n",
    "re.search('[^a-zA-Z0-9_]', 'a_1*3Qb') # find '*' at index 3 because it is non-word character"
   ]
  },
  {
   "cell_type": "markdown",
   "id": "fd239f07-441e-4ebe-b009-e46a8719925e",
   "metadata": {},
   "source": [
    "### 5. \\d\n",
    "    Matches decimal digit characters or [0-9] character class\n"
   ]
  },
  {
   "cell_type": "code",
   "execution_count": 25,
   "id": "7406a462-bede-4dcc-8e89-6cb047ca1978",
   "metadata": {},
   "outputs": [
    {
     "data": {
      "text/plain": [
       "<re.Match object; span=(6, 7), match='6'>"
      ]
     },
     "execution_count": 25,
     "metadata": {},
     "output_type": "execute_result"
    }
   ],
   "source": [
    "re.search(r\"\\d\", \"Kelvin6\") # Finds '6' at index 6"
   ]
  },
  {
   "cell_type": "markdown",
   "id": "5d09dcd0-a320-4ed1-a24b-002072786ade",
   "metadata": {},
   "source": [
    "### 6. \\D\n",
    "\n",
    "    Matches character that are not decimal digit or [^0-9] character class"
   ]
  },
  {
   "cell_type": "code",
   "execution_count": 26,
   "id": "ae979412-a14b-41d1-9e5d-898ba38d6ed1",
   "metadata": {},
   "outputs": [
    {
     "data": {
      "text/plain": [
       "<re.Match object; span=(0, 1), match='K'>"
      ]
     },
     "execution_count": 26,
     "metadata": {},
     "output_type": "execute_result"
    }
   ],
   "source": [
    "re.search(r\"\\D\", \"Kelvin6\")  # Finds 'K' at index 0, the leftmost non-decimal digit character"
   ]
  },
  {
   "cell_type": "markdown",
   "id": "cbc6f0c6-a1fe-4c1c-93bf-a984d0234a30",
   "metadata": {},
   "source": [
    "### 7. \\s\n",
    "   Matches a whitespace."
   ]
  },
  {
   "cell_type": "code",
   "execution_count": 27,
   "id": "d01e463b-83e2-4879-bb58-c882a0b1de82",
   "metadata": {},
   "outputs": [
    {
     "data": {
      "text/plain": [
       "<re.Match object; span=(3, 4), match='\\n'>"
      ]
     },
     "execution_count": 27,
     "metadata": {},
     "output_type": "execute_result"
    }
   ],
   "source": [
    "re.search(r'\\s', 'foo\\nbar baz') # unlike dt(.) \\s matches newline cause it is considered a whitespace"
   ]
  },
  {
   "cell_type": "markdown",
   "id": "569fc877-bbd2-4858-94fa-baeb77280d87",
   "metadata": {},
   "source": [
    "### 8. \\S\n",
    "\n",
    "    Matches everything ecxept whitespace."
   ]
  },
  {
   "cell_type": "code",
   "execution_count": 28,
   "id": "73511c74-298b-434a-8a45-1bbef4e15a46",
   "metadata": {},
   "outputs": [
    {
     "data": {
      "text/plain": [
       "<re.Match object; span=(4, 5), match='f'>"
      ]
     },
     "execution_count": 28,
     "metadata": {},
     "output_type": "execute_result"
    }
   ],
   "source": [
    "re.search(r'\\S', '  \\n foo  \\n  ') # matches f because it the leftmost non-white space character"
   ]
  },
  {
   "cell_type": "markdown",
   "id": "5e48194c-f3c0-4bda-9072-930ba61391a5",
   "metadata": {},
   "source": [
    "### 9. Using \\w, \\W, \\d, \\D, \\s  and \\S in a character class\n",
    "\n",
    "    Follows concept as discussed above."
   ]
  },
  {
   "cell_type": "code",
   "execution_count": 29,
   "id": "808f4ced-9139-40f1-a42e-c6758761c565",
   "metadata": {},
   "outputs": [
    {
     "data": {
      "text/plain": [
       "<re.Match object; span=(3, 4), match='3'>"
      ]
     },
     "execution_count": 29,
     "metadata": {},
     "output_type": "execute_result"
    }
   ],
   "source": [
    "re.search(r'[\\d\\w\\s]', '---3---') # matches single digit or word or whitespace character"
   ]
  },
  {
   "cell_type": "code",
   "execution_count": 30,
   "id": "4c8924b7-7f07-4711-b985-958ae55cb248",
   "metadata": {},
   "outputs": [
    {
     "data": {
      "text/plain": [
       "<re.Match object; span=(3, 4), match='a'>"
      ]
     },
     "execution_count": 30,
     "metadata": {},
     "output_type": "execute_result"
    }
   ],
   "source": [
    "re.search(r'[\\d\\w\\s]', '---a---') # matches single digit or word or whitespace character"
   ]
  },
  {
   "cell_type": "code",
   "execution_count": 31,
   "id": "9769fccd-ada2-4ed7-8da1-1399bf1e795b",
   "metadata": {},
   "outputs": [],
   "source": [
    "re.search(r'[\\d\\w\\s]', '------') # matches single digit or word or whitespace character"
   ]
  },
  {
   "cell_type": "code",
   "execution_count": 32,
   "id": "d5a08c2b-34d5-41f4-8099-c9e67c549bda",
   "metadata": {},
   "outputs": [
    {
     "data": {
      "text/plain": [
       "<re.Match object; span=(3, 4), match='3'>"
      ]
     },
     "execution_count": 32,
     "metadata": {},
     "output_type": "execute_result"
    }
   ],
   "source": [
    "# can be shorted as \\w also included \\d\n",
    "re.search(r'[\\w\\s]', '---3---') # matches single digit or word or whitespace character"
   ]
  },
  {
   "cell_type": "markdown",
   "id": "08bf850a-a1db-43ac-86b4-0b9f915a8de7",
   "metadata": {},
   "source": [
    "### Escaping metacharacter\n",
    "\n",
    "Sometimes we may want the metacharacters to match as literal characters not have special meaning"
   ]
  },
  {
   "cell_type": "code",
   "execution_count": 33,
   "id": "59daeaca-fd82-48ad-8651-3a9d28c6638d",
   "metadata": {},
   "outputs": [
    {
     "data": {
      "text/plain": [
       "<re.Match object; span=(3, 4), match='-'>"
      ]
     },
     "execution_count": 33,
     "metadata": {},
     "output_type": "execute_result"
    }
   ],
   "source": [
    "# Escaping character\n",
    "\n",
    "# 1. Escape hyphen\n",
    "# in search cases it should be defined as the first or last character or escape it\n",
    "# define hyphen as first character\n",
    "re.search('[-abc]', '123-456') # match found at index 3"
   ]
  },
  {
   "cell_type": "code",
   "execution_count": 34,
   "id": "a7df96ea-40e4-4788-a8b0-a64758374de8",
   "metadata": {},
   "outputs": [
    {
     "data": {
      "text/plain": [
       "<re.Match object; span=(3, 4), match='-'>"
      ]
     },
     "execution_count": 34,
     "metadata": {},
     "output_type": "execute_result"
    }
   ],
   "source": [
    "# define hyphen as last character\n",
    "re.search('[abc-]', '123-456') # match found at index 3"
   ]
  },
  {
   "cell_type": "code",
   "execution_count": 35,
   "id": "a46f9a61-cca1-4d9b-bc58-795efe9f3a19",
   "metadata": {},
   "outputs": [
    {
     "data": {
      "text/plain": [
       "<re.Match object; span=(3, 4), match='-'>"
      ]
     },
     "execution_count": 35,
     "metadata": {},
     "output_type": "execute_result"
    }
   ],
   "source": [
    "# escape hyphen using '\\' in the pattern\n",
    "re.search(r'[ab\\-c]', '123-456') # match found at index 3"
   ]
  },
  {
   "cell_type": "code",
   "execution_count": 36,
   "id": "0cd2778b-c69b-40f0-a6b7-ab3c2b633e8e",
   "metadata": {},
   "outputs": [
    {
     "data": {
      "text/plain": [
       "<re.Match object; span=(1, 2), match='['>"
      ]
     },
     "execution_count": 36,
     "metadata": {},
     "output_type": "execute_result"
    }
   ],
   "source": [
    "# 2. Escape angle brackets\n",
    "# escape angle brackets by placing it first in the regex\n",
    "re.search(r'[\\[o]', 'f[oo1]') "
   ]
  },
  {
   "cell_type": "code",
   "execution_count": 37,
   "id": "1e3d5bc1-d366-44f8-ae0e-a2221eeb0ecd",
   "metadata": {},
   "outputs": [
    {
     "data": {
      "text/plain": [
       "<re.Match object; span=(1, 2), match=']'>"
      ]
     },
     "execution_count": 37,
     "metadata": {},
     "output_type": "execute_result"
    }
   ],
   "source": [
    "# escape angle brackets by using backslash\n",
    "re.search(r'[o\\]]', 'f]oo1]') "
   ]
  },
  {
   "cell_type": "code",
   "execution_count": 38,
   "id": "f2bf0639-e671-463c-80c9-494a6e5c750a",
   "metadata": {},
   "outputs": [
    {
     "data": {
      "text/plain": [
       "<re.Match object; span=(0, 1), match='f'>"
      ]
     },
     "execution_count": 38,
     "metadata": {},
     "output_type": "execute_result"
    }
   ],
   "source": [
    "# 3. Escaping the wildcard (.)\n",
    "\n",
    "# here it matches any character that is not a newline\n",
    "re.search('.', 'foo.bar') # finds 'f' as leftmost any character not a newline. Not escaped here"
   ]
  },
  {
   "cell_type": "code",
   "execution_count": 39,
   "id": "bf50b766-38ce-4b78-9adc-1d734d0d5d4e",
   "metadata": {},
   "outputs": [
    {
     "data": {
      "text/plain": [
       "<re.Match object; span=(3, 4), match='.'>"
      ]
     },
     "execution_count": 39,
     "metadata": {},
     "output_type": "execute_result"
    }
   ],
   "source": [
    "# Escaping the wildcard (.) with backslash\n",
    "re.search(r'\\.', 'foo.bar') # Here wildcard is escape, it matched as literal character in the input string"
   ]
  },
  {
   "cell_type": "code",
   "execution_count": 40,
   "id": "2b4d2dd3-8fde-498e-aacd-0d888b0a6719",
   "metadata": {},
   "outputs": [
    {
     "name": "stdout",
     "output_type": "stream",
     "text": [
      "Kelvin\\Macharia\n"
     ]
    },
    {
     "data": {
      "text/plain": [
       "<re.Match object; span=(6, 7), match='\\\\'>"
      ]
     },
     "execution_count": 40,
     "metadata": {},
     "output_type": "execute_result"
    }
   ],
   "source": [
    "# 4. Escaping backslash \n",
    "# here we need to pass regex as a raw python string then escape backslash with another for regex parser to match only one backslash in the inpu string\n",
    "str = r\"Kelvin\\Macharia\"\n",
    "print(str)\n",
    "re.search(r\"\\\\\", str)"
   ]
  },
  {
   "cell_type": "code",
   "execution_count": 41,
   "id": "97e3097e-d276-44f4-b659-fa181a42fc49",
   "metadata": {},
   "outputs": [
    {
     "data": {
      "text/plain": [
       "<re.Match object; span=(6, 8), match='\\\\\\\\'>"
      ]
     },
     "execution_count": 41,
     "metadata": {},
     "output_type": "execute_result"
    }
   ],
   "source": [
    "# match two consecutive backslashes in an inpu string\n",
    "str = r\"Kelvin\\\\Macharia\"\n",
    "re.search(r\"\\\\\\\\\", str)"
   ]
  },
  {
   "cell_type": "markdown",
   "id": "96f6319e-5ea4-42aa-8593-f453e16745a8",
   "metadata": {},
   "source": [
    "## Anchors\n",
    "\n",
    "    Anchors specifies the location in the search string that the match must be found. i.e. emphasizes the order.\n",
    "\n",
    "### 1. Caret (^) anchor: anchor the match at the begining of the input string. "
   ]
  },
  {
   "cell_type": "code",
   "execution_count": 42,
   "id": "705ea194-c9bc-4da6-9b74-d7c33349af2a",
   "metadata": {},
   "outputs": [
    {
     "data": {
      "text/plain": [
       "<re.Match object; span=(0, 3), match='foo'>"
      ]
     },
     "execution_count": 42,
     "metadata": {},
     "output_type": "execute_result"
    }
   ],
   "source": [
    "re.search('^foo', 'foobar') # substring 'foo' is at the begining of the string so it is found "
   ]
  },
  {
   "cell_type": "code",
   "execution_count": 43,
   "id": "ace10c45-dc15-4851-8856-8adbaf2d6400",
   "metadata": {},
   "outputs": [
    {
     "name": "stdout",
     "output_type": "stream",
     "text": [
      "None\n"
     ]
    }
   ],
   "source": [
    "print(re.search('^foo', 'barfoo')) # substring 'foo' is not at the start of the string so no match."
   ]
  },
  {
   "cell_type": "code",
   "execution_count": 44,
   "id": "6951bd55-195a-4f66-a08d-e37a5135293b",
   "metadata": {},
   "outputs": [
    {
     "data": {
      "text/plain": [
       "<re.Match object; span=(0, 3), match='foo'>"
      ]
     },
     "execution_count": 44,
     "metadata": {},
     "output_type": "execute_result"
    }
   ],
   "source": [
    "# we can use \\A for anchoring but this has special meaning in MULTILINE mode\n",
    "re.search(r'\\Afoo', 'foobar') # substring 'foo' is at the begining of the string so it is found "
   ]
  },
  {
   "cell_type": "code",
   "execution_count": 45,
   "id": "881aba37-c4a3-4f1e-8ef3-a26682209b99",
   "metadata": {},
   "outputs": [
    {
     "name": "stdout",
     "output_type": "stream",
     "text": [
      "None\n"
     ]
    }
   ],
   "source": [
    "print(re.search(r'\\Afoo', 'barfoo')) # substring 'foo' is not at the start of the string so no match."
   ]
  },
  {
   "cell_type": "markdown",
   "id": "dd636fa4-9f5d-49be-81f5-3dba08560eeb",
   "metadata": {},
   "source": [
    "### 2. Dollar ($)\n",
    "    Anchors to the end of the substring"
   ]
  },
  {
   "cell_type": "code",
   "execution_count": 46,
   "id": "68399872-7ce2-440f-a8fa-90ca2d9947e6",
   "metadata": {},
   "outputs": [
    {
     "data": {
      "text/plain": [
       "<re.Match object; span=(3, 6), match='bar'>"
      ]
     },
     "execution_count": 46,
     "metadata": {},
     "output_type": "execute_result"
    }
   ],
   "source": [
    "re.search('bar$', 'foobar')"
   ]
  },
  {
   "cell_type": "code",
   "execution_count": 47,
   "id": "daa0ee04-6a42-496a-a579-57fc67428788",
   "metadata": {},
   "outputs": [
    {
     "data": {
      "text/plain": [
       "<re.Match object; span=(3, 6), match='bar'>"
      ]
     },
     "execution_count": 47,
     "metadata": {},
     "output_type": "execute_result"
    }
   ],
   "source": [
    "re.search(r'bar\\Z', 'foobar') # \\Z works too for this purpose"
   ]
  },
  {
   "cell_type": "code",
   "execution_count": 48,
   "id": "fede4f59-54ae-4ef7-a4cb-4db6fcab14a9",
   "metadata": {},
   "outputs": [
    {
     "data": {
      "text/plain": [
       "<re.Match object; span=(3, 6), match='bar'>"
      ]
     },
     "execution_count": 48,
     "metadata": {},
     "output_type": "execute_result"
    }
   ],
   "source": [
    "re.search('bar$', 'foobar\\n') # '$' assumes the \\n and just matches"
   ]
  },
  {
   "cell_type": "code",
   "execution_count": 49,
   "id": "70a0d03f-0e55-4b8b-85ac-9e599125d6e4",
   "metadata": {},
   "outputs": [
    {
     "name": "stdout",
     "output_type": "stream",
     "text": [
      "None\n"
     ]
    }
   ],
   "source": [
    "print(re.search(r'bar\\Z', 'foobar\\n')) # \\Z fails because techinically bar is not the end of string, there is a newline character\n",
    "# \\Z is strict"
   ]
  },
  {
   "cell_type": "markdown",
   "id": "6b74d5a5-8131-4fd2-af33-38efd380b781",
   "metadata": {},
   "source": [
    "### 3. \\b\n",
    "    Anchors a match to a word boundary.\n",
    "\n",
    "    Note: word characters are [a-zA-Z0-9_]"
   ]
  },
  {
   "cell_type": "code",
   "execution_count": 50,
   "id": "ed1b589c-6d2d-4079-8636-586ec0950678",
   "metadata": {},
   "outputs": [
    {
     "data": {
      "text/plain": [
       "<re.Match object; span=(4, 7), match='bar'>"
      ]
     },
     "execution_count": 50,
     "metadata": {},
     "output_type": "execute_result"
    }
   ],
   "source": [
    "re.search(r\"\\bbar\", \"foo bar\") # bar is at the begining of a new word"
   ]
  },
  {
   "cell_type": "code",
   "execution_count": 51,
   "id": "49cd674b-e221-44ef-964e-35727072fc19",
   "metadata": {},
   "outputs": [
    {
     "data": {
      "text/plain": [
       "<re.Match object; span=(4, 7), match='bar'>"
      ]
     },
     "execution_count": 51,
     "metadata": {},
     "output_type": "execute_result"
    }
   ],
   "source": [
    "re.search(r\"\\bbar\", \"foo.bar\") # bar is a the begining of new word"
   ]
  },
  {
   "cell_type": "code",
   "execution_count": 52,
   "id": "488c766d-db27-4b1d-a7b2-2efb93bf16d3",
   "metadata": {},
   "outputs": [
    {
     "name": "stdout",
     "output_type": "stream",
     "text": [
      "None\n"
     ]
    }
   ],
   "source": [
    "print(re.search(r\"\\bbar\", \"foobar\")) # bar is not a separate word in the case"
   ]
  },
  {
   "cell_type": "code",
   "execution_count": 53,
   "id": "6f194e68-99ed-4b87-b127-447d707abdef",
   "metadata": {},
   "outputs": [
    {
     "data": {
      "text/plain": [
       "<re.Match object; span=(0, 3), match='foo'>"
      ]
     },
     "execution_count": 53,
     "metadata": {},
     "output_type": "execute_result"
    }
   ],
   "source": [
    "# \\b \n",
    "re.search(r\"foo\\b\", \"foo bar\")  # foo ends then a new word begins, there is a clear boundary"
   ]
  },
  {
   "cell_type": "code",
   "execution_count": 54,
   "id": "b936a1a4-abb3-4aa1-a9ed-60004cc906ca",
   "metadata": {},
   "outputs": [
    {
     "data": {
      "text/plain": [
       "<re.Match object; span=(0, 3), match='foo'>"
      ]
     },
     "execution_count": 54,
     "metadata": {},
     "output_type": "execute_result"
    }
   ],
   "source": [
    "re.search(r\"foo\\b\", \"foo.bar\") # foo ends then a new word begins, there is a clear boundary"
   ]
  },
  {
   "cell_type": "code",
   "execution_count": 55,
   "id": "66fac315-a7c3-4008-ae03-5fd36a34305d",
   "metadata": {},
   "outputs": [
    {
     "name": "stdout",
     "output_type": "stream",
     "text": [
      "None\n"
     ]
    }
   ],
   "source": [
    "print(re.search(r\"foo\\b\", \"foobar\")) # no clear boundary,"
   ]
  },
  {
   "cell_type": "code",
   "execution_count": 56,
   "id": "a6700ecb-ad94-4872-83e6-805fe5802131",
   "metadata": {},
   "outputs": [
    {
     "data": {
      "text/plain": [
       "<re.Match object; span=(4, 7), match='bar'>"
      ]
     },
     "execution_count": 56,
     "metadata": {},
     "output_type": "execute_result"
    }
   ],
   "source": [
    "# Word boundaries exist before and after \"bar\", so the match is valid because space is a non-word character\n",
    "re.search(r'\\bbar\\b', 'foo bar baz')"
   ]
  },
  {
   "cell_type": "code",
   "execution_count": 57,
   "id": "730572aa-f971-4135-b1ca-120cdc3a8311",
   "metadata": {},
   "outputs": [
    {
     "name": "stdout",
     "output_type": "stream",
     "text": [
      "None\n"
     ]
    }
   ],
   "source": [
    "# No word boundaries before but after \"bar\" there is, so the match is invalid because '_'  is a word character\n",
    "print(re.search(r'\\bbar\\b', '_bar foo baz'))"
   ]
  },
  {
   "cell_type": "code",
   "execution_count": 58,
   "id": "47582ddf-4072-468a-8558-20e24f47b64a",
   "metadata": {},
   "outputs": [
    {
     "data": {
      "text/plain": [
       "<re.Match object; span=(1, 4), match='bar'>"
      ]
     },
     "execution_count": 58,
     "metadata": {},
     "output_type": "execute_result"
    }
   ],
   "source": [
    "# Word boundaries exist before and after \"bar\", so the match is valid because '-'  is a non-word character\n",
    "re.search(r'\\bbar\\b', '-bar foo baz') "
   ]
  },
  {
   "cell_type": "markdown",
   "id": "da0b51ad-0f49-44e8-bcf7-3db13423f771",
   "metadata": {},
   "source": [
    "### 4. \\B\n",
    "    Anchors to a location that isn't a word boundary. Opposite of \\b\n"
   ]
  },
  {
   "cell_type": "code",
   "execution_count": 59,
   "id": "69602a7b-b19d-4bed-8474-8c6425c30ca6",
   "metadata": {},
   "outputs": [
    {
     "name": "stdout",
     "output_type": "stream",
     "text": [
      "None\n"
     ]
    }
   ],
   "source": [
    "# No match because there is a word boundary\n",
    "print(re.search(r'\\Bfoo\\B' , 'foo')) "
   ]
  },
  {
   "cell_type": "code",
   "execution_count": 60,
   "id": "df58c569-be9a-40a3-91ab-b804fe78bb4f",
   "metadata": {},
   "outputs": [
    {
     "name": "stdout",
     "output_type": "stream",
     "text": [
      "<re.Match object; span=(3, 6), match='foo'>\n"
     ]
    }
   ],
   "source": [
    "# There is a match because there is no word boundary\n",
    "print(re.search(r'\\Bfoo\\B' , 'barfoobaz')) "
   ]
  },
  {
   "cell_type": "markdown",
   "id": "4dfdf03f-7aee-4683-8fca-c9ab54cd1346",
   "metadata": {},
   "source": [
    "## Quantifiers\n",
    "\n",
    "    Quantifiers appear after a portion of <regex> to indicate repetition of that particular portion.\n",
    "\n",
    "### 1.   Asterisk (*)\n",
    "        '*' matches zero or more characters"
   ]
  },
  {
   "cell_type": "code",
   "execution_count": 97,
   "id": "69a687dd-906c-4836-b8d5-57f12b44df80",
   "metadata": {},
   "outputs": [
    {
     "data": {
      "text/plain": [
       "<re.Match object; span=(0, 6), match='foobar'>"
      ]
     },
     "execution_count": 97,
     "metadata": {},
     "output_type": "execute_result"
    }
   ],
   "source": [
    "re.search('foo-*bar', 'foobar') # hypen not present, positive match"
   ]
  },
  {
   "cell_type": "code",
   "execution_count": 99,
   "id": "ab7ff78b-fc03-41ff-b818-da53f3710487",
   "metadata": {},
   "outputs": [
    {
     "data": {
      "text/plain": [
       "<re.Match object; span=(0, 7), match='foo-bar'>"
      ]
     },
     "execution_count": 99,
     "metadata": {},
     "output_type": "execute_result"
    }
   ],
   "source": [
    "re.search('foo-*bar', 'foo-bar') # one hypen present, positive match"
   ]
  },
  {
   "cell_type": "code",
   "execution_count": 63,
   "id": "9a570627-c782-4dc0-ad68-b921df363872",
   "metadata": {},
   "outputs": [
    {
     "data": {
      "text/plain": [
       "<re.Match object; span=(0, 8), match='foo--bar'>"
      ]
     },
     "execution_count": 63,
     "metadata": {},
     "output_type": "execute_result"
    }
   ],
   "source": [
    "re.search('foo-*bar', 'foo--bar') # 2 hypens present, still a match. "
   ]
  },
  {
   "cell_type": "markdown",
   "id": "77118d72-2f17-4bef-b0d2-f9a611d7866a",
   "metadata": {},
   "source": [
    "### 2. Plus (+)\n",
    "        Matches one or more repetition of preceeding regex"
   ]
  },
  {
   "cell_type": "code",
   "execution_count": 100,
   "id": "b0c9c55d-5a52-4bf1-91d2-f88648fb0e23",
   "metadata": {},
   "outputs": [
    {
     "name": "stdout",
     "output_type": "stream",
     "text": [
      "None\n"
     ]
    }
   ],
   "source": [
    "print(re.search('foo-+bar','foobar')) # atleast one hypen must be present for a match"
   ]
  },
  {
   "cell_type": "code",
   "execution_count": 65,
   "id": "f3ffae8b-0a92-4208-a3e0-f7014a7e4661",
   "metadata": {},
   "outputs": [
    {
     "data": {
      "text/plain": [
       "<re.Match object; span=(0, 7), match='foo-bar'>"
      ]
     },
     "execution_count": 65,
     "metadata": {},
     "output_type": "execute_result"
    }
   ],
   "source": [
    "re.search('foo-+bar','foo-bar') # one hyphen is present in the string so it's a match"
   ]
  },
  {
   "cell_type": "code",
   "execution_count": 101,
   "id": "0e0e4a57-b469-4ae8-b851-c1d9ee9c9213",
   "metadata": {},
   "outputs": [
    {
     "data": {
      "text/plain": [
       "<re.Match object; span=(0, 8), match='foo--bar'>"
      ]
     },
     "execution_count": 101,
     "metadata": {},
     "output_type": "execute_result"
    }
   ],
   "source": [
    "re.search('foo-+bar','foo--bar') # two hyphen are present in the string so it's a match. More occurences of hyphen will still make the string have a +ve match"
   ]
  },
  {
   "cell_type": "markdown",
   "id": "afafe1a4-eb56-4a3d-b441-d5465a488d72",
   "metadata": {},
   "source": [
    "### 3. Question mark(?)\n",
    "    Matches zero or one repetition "
   ]
  },
  {
   "cell_type": "code",
   "execution_count": 67,
   "id": "b7f58fe6-eb69-4839-9cd2-5ad7935523e6",
   "metadata": {},
   "outputs": [
    {
     "data": {
      "text/plain": [
       "<re.Match object; span=(0, 6), match='foobar'>"
      ]
     },
     "execution_count": 67,
     "metadata": {},
     "output_type": "execute_result"
    }
   ],
   "source": [
    "re.search('foo-?bar','foobar') # matches when there is no hyphen"
   ]
  },
  {
   "cell_type": "code",
   "execution_count": 68,
   "id": "b95a9cf0-fd72-4236-9c1d-b43187cf166f",
   "metadata": {},
   "outputs": [
    {
     "data": {
      "text/plain": [
       "<re.Match object; span=(0, 7), match='foo-bar'>"
      ]
     },
     "execution_count": 68,
     "metadata": {},
     "output_type": "execute_result"
    }
   ],
   "source": [
    "re.search('foo-?bar','foo-bar') # matches when there only when there is one hyphen"
   ]
  },
  {
   "cell_type": "code",
   "execution_count": 102,
   "id": "36dd9996-9bf7-4c32-bbcb-34c302184dfa",
   "metadata": {},
   "outputs": [
    {
     "name": "stdout",
     "output_type": "stream",
     "text": [
      "None\n"
     ]
    }
   ],
   "source": [
    "print(re.search('foo-?bar','foo--bar')) # no match if the hypens exceed one number. Can only be one or none"
   ]
  },
  {
   "cell_type": "markdown",
   "id": "5a68f9db-c65a-4289-94d3-e87a22b9a42e",
   "metadata": {},
   "source": [
    "### 4.  Quantifiers metacharacters complementing other metacharacters.\n",
    "\n",
    "        Quantifiers can complent each other in a regex for more refined matches"
   ]
  },
  {
   "cell_type": "code",
   "execution_count": 70,
   "id": "39b4ccfe-8427-469b-bfea-352d3c91272d",
   "metadata": {},
   "outputs": [
    {
     "data": {
      "text/plain": [
       "<re.Match object; span=(2, 23), match='foo $qux@grault % bar'>"
      ]
     },
     "execution_count": 70,
     "metadata": {},
     "output_type": "execute_result"
    }
   ],
   "source": [
    "# a.  Asterisk complementing dot ( .* )\n",
    "#        Matches zero or more occurence of any single character\n",
    "\n",
    "# zero to any number of characters are found between foo and bar making it a positive match\n",
    "re.search('foo.*bar', '# foo $qux@grault % bar #') "
   ]
  },
  {
   "cell_type": "code",
   "execution_count": 71,
   "id": "84764e7b-8c96-413d-9947-ed0e3acc1bb5",
   "metadata": {},
   "outputs": [
    {
     "data": {
      "text/plain": [
       "<re.Match object; span=(0, 6), match='foobar'>"
      ]
     },
     "execution_count": 71,
     "metadata": {},
     "output_type": "execute_result"
    }
   ],
   "source": [
    "# b.  Asterisk complementing character class ( [range]* )\n",
    "re.match('foo[0-9]*bar', 'foobar') # no decimal digits between foo and bar will be a match"
   ]
  },
  {
   "cell_type": "code",
   "execution_count": 72,
   "id": "06785467-5d31-4145-b306-6554ee66c762",
   "metadata": {},
   "outputs": [
    {
     "data": {
      "text/plain": [
       "<re.Match object; span=(0, 7), match='foo1bar'>"
      ]
     },
     "execution_count": 72,
     "metadata": {},
     "output_type": "execute_result"
    }
   ],
   "source": [
    "re.match('foo[0-9]*bar', 'foo1bar') # one decimal digits between foo and bar will be a match"
   ]
  },
  {
   "cell_type": "code",
   "execution_count": 73,
   "id": "66c41ada-0863-4d39-b2d8-594d30b2552e",
   "metadata": {},
   "outputs": [
    {
     "data": {
      "text/plain": [
       "<re.Match object; span=(0, 9), match='foo123bar'>"
      ]
     },
     "execution_count": 73,
     "metadata": {},
     "output_type": "execute_result"
    }
   ],
   "source": [
    "re.match('foo[0-9]*bar', 'foo123bar') # two or more decimal digits between foo and bar will be a match still"
   ]
  },
  {
   "cell_type": "code",
   "execution_count": 74,
   "id": "faa786ef-4bb1-42be-a197-660a7353bc96",
   "metadata": {},
   "outputs": [
    {
     "name": "stdout",
     "output_type": "stream",
     "text": [
      "None\n"
     ]
    }
   ],
   "source": [
    "# c.  plus complementing character class ( [range]+ )\n",
    "print(re.match('foo[0-9]+bar', 'foobar')) # no decimal digits between foo and bar not a much. There must be atleast one"
   ]
  },
  {
   "cell_type": "code",
   "execution_count": 75,
   "id": "f1a04720-3e52-46d7-af21-aa34fc5d6d6d",
   "metadata": {},
   "outputs": [
    {
     "data": {
      "text/plain": [
       "<re.Match object; span=(0, 7), match='foo1bar'>"
      ]
     },
     "execution_count": 75,
     "metadata": {},
     "output_type": "execute_result"
    }
   ],
   "source": [
    "re.match('foo[0-9]+bar', 'foo1bar') # altleast one decimal digit must be present for a match"
   ]
  },
  {
   "cell_type": "code",
   "execution_count": 76,
   "id": "cbf030e7-79c7-4cea-a27c-1aa184e62d58",
   "metadata": {},
   "outputs": [
    {
     "data": {
      "text/plain": [
       "<re.Match object; span=(0, 10), match='foo1234bar'>"
      ]
     },
     "execution_count": 76,
     "metadata": {},
     "output_type": "execute_result"
    }
   ],
   "source": [
    "re.match('foo[0-9]+bar', 'foo1234bar') # altleast one decimal digit must be present for a match"
   ]
  },
  {
   "cell_type": "code",
   "execution_count": 77,
   "id": "57a3f04a-96f6-41a6-bf8b-560d4599175a",
   "metadata": {},
   "outputs": [
    {
     "data": {
      "text/plain": [
       "<re.Match object; span=(0, 6), match='foobar'>"
      ]
     },
     "execution_count": 77,
     "metadata": {},
     "output_type": "execute_result"
    }
   ],
   "source": [
    "# c.  Question mark complementing character class ( [range]? )\n",
    "re.match('foo[0-9]?bar', 'foobar') # zero decimal digit is a match"
   ]
  },
  {
   "cell_type": "code",
   "execution_count": 78,
   "id": "b69d1af6-9e0d-4de0-810c-4611ee8edc87",
   "metadata": {},
   "outputs": [
    {
     "data": {
      "text/plain": [
       "<re.Match object; span=(0, 7), match='foo1bar'>"
      ]
     },
     "execution_count": 78,
     "metadata": {},
     "output_type": "execute_result"
    }
   ],
   "source": [
    "re.match('foo[0-9]?bar', 'foo1bar') # one decimal digit is a match"
   ]
  },
  {
   "cell_type": "code",
   "execution_count": 79,
   "id": "688909db-d186-4779-88fa-0caa4d4eeaca",
   "metadata": {},
   "outputs": [
    {
     "name": "stdout",
     "output_type": "stream",
     "text": [
      "None\n"
     ]
    }
   ],
   "source": [
    "print(re.match('foo[0-9]?bar', 'foo12bar')) # more than one decimal digit is not a match. \n",
    "#  It is called non-greedy match where it matches zero or only one of the regex portion specified"
   ]
  },
  {
   "cell_type": "markdown",
   "id": "e898ede1-8912-43d3-8d9b-f40e988e8140",
   "metadata": {},
   "source": [
    "### 5. *, + and ? non-greedy(lazy) versions\n",
    "\n",
    "    By default, the quantifiers *, +, and ? in regular expressions are greedy — they match as much text as possible while still allowing the overall pattern to succeed.\n",
    "\n",
    "Greedy Quantifiers:\n",
    "* – Matches zero or more of the preceding element (greedy).\n",
    "\n",
    "+ – Matches one or more of the preceding element (greedy).\n",
    "\n",
    "? – Matches zero or one of the preceding element (greedy).\n",
    "\n",
    "Lazy (Non-Greedy) Quantifiers:\n",
    "\n",
    "To make these quantifiers lazy, append a ? to them. This tells the regex engine to match as little text as possible while still allowing the overall pattern to succeed.\n",
    "\n",
    "*? – Matches zero or more (lazy).\n",
    "\n",
    "+? – Matches one or more (lazy).\n",
    "\n",
    "?? – Matches zero or one (lazy).\n",
    "\n",
    "Summary:\n",
    "Greedy tries to match the longest possible substring.\n",
    "\n",
    "Lazy tries to match the shortest possible substring."
   ]
  },
  {
   "cell_type": "code",
   "execution_count": 103,
   "id": "f521ac5e-4020-433f-b2e0-f72454bec876",
   "metadata": {},
   "outputs": [
    {
     "data": {
      "text/plain": [
       "<re.Match object; span=(1, 18), match='<foo> <bar> <baz>'>"
      ]
     },
     "execution_count": 103,
     "metadata": {},
     "output_type": "execute_result"
    }
   ],
   "source": [
    "# a. '.*?' - match any character zero or more times in a non-greedy way\n",
    "\n",
    "# longest possible match is returned though '>' occur in several locations in the input string\n",
    "re.search('<.*>', '%<foo> <bar> <baz>%') "
   ]
  },
  {
   "cell_type": "code",
   "execution_count": 104,
   "id": "b959bfae-934a-453d-ab8a-28c6a7cbbcaf",
   "metadata": {},
   "outputs": [
    {
     "data": {
      "text/plain": [
       "<re.Match object; span=(1, 6), match='<foo>'>"
      ]
     },
     "execution_count": 104,
     "metadata": {},
     "output_type": "execute_result"
    }
   ],
   "source": [
    "# .*? part (non-greedy) will match the smallest possible substring upto the first occurence of '>'\n",
    "re.search('<.*?>', '%<foo> <bar> <baz>%')"
   ]
  },
  {
   "cell_type": "code",
   "execution_count": 106,
   "id": "30fe49c9-ad56-49c8-82c3-4b826dd17ca5",
   "metadata": {},
   "outputs": [
    {
     "data": {
      "text/plain": [
       "<re.Match object; span=(1, 6), match='<foo>'>"
      ]
     },
     "execution_count": 106,
     "metadata": {},
     "output_type": "execute_result"
    }
   ],
   "source": [
    "# equivalent non-greedy match using negated character class\n",
    "re.search('<[^>]*>', '%<foo> <bar> <baz>%')"
   ]
  },
  {
   "cell_type": "code",
   "execution_count": 83,
   "id": "86c53a51-e86a-46b8-b9f8-94676ff138f4",
   "metadata": {},
   "outputs": [
    {
     "data": {
      "text/plain": [
       "<re.Match object; span=(1, 18), match='<foo> <bar> <baz>'>"
      ]
     },
     "execution_count": 83,
     "metadata": {},
     "output_type": "execute_result"
    }
   ],
   "source": [
    "# b. '.+?' - match any character one or more times in a non-greedy way.\n",
    "\n",
    "# Example 1\n",
    "# greedy match\n",
    "re.search('<.+>', '%<foo> <bar> <baz>%')"
   ]
  },
  {
   "cell_type": "code",
   "execution_count": 84,
   "id": "c5524569-cf8e-4e9d-9dcc-5d186bdeebb5",
   "metadata": {},
   "outputs": [
    {
     "data": {
      "text/plain": [
       "<re.Match object; span=(1, 6), match='<foo>'>"
      ]
     },
     "execution_count": 84,
     "metadata": {},
     "output_type": "execute_result"
    }
   ],
   "source": [
    "# non-greedy match\n",
    "re.search('<.+?>', '%<foo> <bar> <baz>%')"
   ]
  },
  {
   "cell_type": "code",
   "execution_count": 85,
   "id": "d956fc47-ef1f-40cd-b5df-07938654189e",
   "metadata": {},
   "outputs": [
    {
     "data": {
      "text/plain": [
       "<re.Match object; span=(1, 9), match='<> <bar>'>"
      ]
     },
     "execution_count": 85,
     "metadata": {},
     "output_type": "execute_result"
    }
   ],
   "source": [
    "# non-greedy match\n",
    "# nothing has been found in between the first occurence of '>', therefore the match extends to the next '>' ... \n",
    "# ... to ensure atleast one character is between '<' and '>'\n",
    "re.search('<.+?>', '%<> <bar> <baz>%') # one or more charaters must be present between '<' and '>'"
   ]
  },
  {
   "cell_type": "code",
   "execution_count": 113,
   "id": "c6f0e29c-5e1a-4fe6-a7dd-a5a975b87e9d",
   "metadata": {},
   "outputs": [
    {
     "data": {
      "text/plain": [
       "<re.Match object; span=(0, 2), match='ba'>"
      ]
     },
     "execution_count": 113,
     "metadata": {},
     "output_type": "execute_result"
    }
   ],
   "source": [
    "# Example 2\n",
    "re.search('ba?', 'ba') # greedy version matches the longest possible, which is one 'a'"
   ]
  },
  {
   "cell_type": "code",
   "execution_count": 115,
   "id": "69dad18d-5746-4049-83fe-8a1f09019618",
   "metadata": {},
   "outputs": [
    {
     "data": {
      "text/plain": [
       "<re.Match object; span=(0, 1), match='b'>"
      ]
     },
     "execution_count": 115,
     "metadata": {},
     "output_type": "execute_result"
    }
   ],
   "source": [
    "re.search('ba??', 'baaaa') # non-greedy, returns shortest ma i.e. zero 'a' and only return 'b'"
   ]
  },
  {
   "cell_type": "markdown",
   "id": "b53c7af9-e5be-4bce-809d-b44f03bbe9e5",
   "metadata": {},
   "source": [
    "### 6. {m}\n",
    "    This specifies exactly number of repetition"
   ]
  },
  {
   "cell_type": "code",
   "execution_count": 88,
   "id": "00127691-df5d-43f9-956d-8c0fd70dc625",
   "metadata": {},
   "outputs": [
    {
     "name": "stdout",
     "output_type": "stream",
     "text": [
      "None\n"
     ]
    }
   ],
   "source": [
    "print(re.search('x-{3}x', 'x--x')) # exactly three dashes required for a positive match"
   ]
  },
  {
   "cell_type": "code",
   "execution_count": 89,
   "id": "7aa4e387-f0d3-42b4-bf8e-e8552e28117f",
   "metadata": {},
   "outputs": [
    {
     "data": {
      "text/plain": [
       "<re.Match object; span=(0, 5), match='x---x'>"
      ]
     },
     "execution_count": 89,
     "metadata": {},
     "output_type": "execute_result"
    }
   ],
   "source": [
    "re.search('x-{3}x', 'x---x') # three dashes presents, the string is a postive match"
   ]
  },
  {
   "cell_type": "code",
   "execution_count": 90,
   "id": "dc4096e3-b311-4222-8945-6a1b185a8076",
   "metadata": {},
   "outputs": [
    {
     "name": "stdout",
     "output_type": "stream",
     "text": [
      "None\n"
     ]
    }
   ],
   "source": [
    "print(re.search('x-{3}x', 'x----x')) # exactly three dashes not less not more. It is specific"
   ]
  },
  {
   "cell_type": "markdown",
   "id": "250fa362-51a9-470f-83df-d539d805cd44",
   "metadata": {},
   "source": [
    "### 6. {m,n}\n",
    "    This specifies exactly number of repetition giving a range with m and m inclusive."
   ]
  },
  {
   "cell_type": "code",
   "execution_count": 91,
   "id": "3f249554-109e-4657-8f42-d44c9f7de4fa",
   "metadata": {},
   "outputs": [
    {
     "name": "stdout",
     "output_type": "stream",
     "text": [
      "1 x-x        None\n",
      "2 x--x       <re.Match object; span=(0, 4), match='x--x'>\n",
      "3 x---x      <re.Match object; span=(0, 5), match='x---x'>\n",
      "4 x----x     <re.Match object; span=(0, 6), match='x----x'>\n",
      "5 x-----x    None\n"
     ]
    }
   ],
   "source": [
    "# string with 2,3 and 4 dashes are matched\n",
    "for i in range(1,6):\n",
    "    s = f\"x{'-'*i}x\"\n",
    "    print(f'{i} {s:10}', re.search('x-{2,4}x', s))"
   ]
  },
  {
   "cell_type": "markdown",
   "id": "1a2ae17c-d586-4ffe-8c33-10c52b0151d2",
   "metadata": {},
   "source": [
    "### Other ways of specifying reps are:\n",
    "\n",
    "`<regex>` {,n}  - means `<regex>` {0,n}\n",
    "\n",
    "`<regex>` {m,}  - means `<regex>` {m, $\\infty$}\n",
    "\n",
    "`<regex>` {,}  - means any number of reps, can be implement as `<regex>*`\n",
    "\n",
    "*Note: Empycurly braces have no meaning and will be taken as literal characters*"
   ]
  },
  {
   "cell_type": "code",
   "execution_count": 92,
   "id": "86994a3b-3da4-4dbe-ae61-6a4071b61875",
   "metadata": {},
   "outputs": [
    {
     "data": {
      "text/plain": [
       "<re.Match object; span=(0, 4), match='k{}n'>"
      ]
     },
     "execution_count": 92,
     "metadata": {},
     "output_type": "execute_result"
    }
   ],
   "source": [
    "re.search(\"k{}n\", \"k{}n\") # matches the string \"k{}n\""
   ]
  },
  {
   "cell_type": "markdown",
   "id": "a7e11241-4532-4c79-b889-0ded05dbc157",
   "metadata": {},
   "source": [
    "### 7. {m,n}?\n",
    "\n",
    "    This matches in a non-greedy way that is a string with atleast 'm' no. characters\n",
    "    "
   ]
  },
  {
   "cell_type": "code",
   "execution_count": 93,
   "id": "ba7da89b-80a0-4d1a-93db-9045121a35e7",
   "metadata": {},
   "outputs": [
    {
     "data": {
      "text/plain": [
       "<re.Match object; span=(0, 5), match='aaaaa'>"
      ]
     },
     "execution_count": 93,
     "metadata": {},
     "output_type": "execute_result"
    }
   ],
   "source": [
    "# greedy match, matches the maximum of 5\n",
    "re.search('a{3,5}', 'aaaaaaaa')"
   ]
  },
  {
   "cell_type": "code",
   "execution_count": 94,
   "id": "039dc6c6-c556-42bd-98c9-5db9f188dbcb",
   "metadata": {},
   "outputs": [
    {
     "data": {
      "text/plain": [
       "<re.Match object; span=(0, 3), match='aaa'>"
      ]
     },
     "execution_count": 94,
     "metadata": {},
     "output_type": "execute_result"
    }
   ],
   "source": [
    "# non-greedy match, matches the minimum of 3\n",
    "re.search('a{3,5}?', 'aaaaaaaa')"
   ]
  },
  {
   "cell_type": "code",
   "execution_count": null,
   "id": "48fc2f8e-aa6b-433c-92d3-dc83f3d963a6",
   "metadata": {},
   "outputs": [],
   "source": []
  }
 ],
 "metadata": {
  "kernelspec": {
   "display_name": "Python 3 (ipykernel)",
   "language": "python",
   "name": "python3"
  },
  "language_info": {
   "codemirror_mode": {
    "name": "ipython",
    "version": 3
   },
   "file_extension": ".py",
   "mimetype": "text/x-python",
   "name": "python",
   "nbconvert_exporter": "python",
   "pygments_lexer": "ipython3",
   "version": "3.13.2"
  }
 },
 "nbformat": 4,
 "nbformat_minor": 5
}
