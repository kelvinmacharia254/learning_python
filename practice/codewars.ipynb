{
 "cells": [
  {
   "cell_type": "code",
   "execution_count": 24,
   "id": "e5cda7b3-96c6-42ac-a0dd-a71f9837f18d",
   "metadata": {},
   "outputs": [
    {
     "data": {
      "text/plain": [
       "'-6,-3-1,3-5,7-11,14,15,17-20'"
      ]
     },
     "execution_count": 24,
     "metadata": {},
     "output_type": "execute_result"
    }
   ],
   "source": [
    "def solution(args):\n",
    "    result = []\n",
    "    temp = [args[0]]\n",
    "\n",
    "    for i in range(1, len(args)):\n",
    "        if args[i] == args[i - 1] + 1:\n",
    "            temp.append(args[i])\n",
    "        else:\n",
    "            # End of current group; process it\n",
    "            if len(temp) >= 3:\n",
    "                result.append(f\"{temp[0]}-{temp[-1]}\")\n",
    "            else:\n",
    "                result.extend(map(str, temp))\n",
    "            temp = [args[i]]  # Start new group\n",
    "\n",
    "    # Don't forget the last group\n",
    "    if len(temp) >= 3:\n",
    "        result.append(f\"{temp[0]}-{temp[-1]}\")\n",
    "    else:\n",
    "        result.extend(map(str, temp))\n",
    "\n",
    "    return \",\".join(result)\n",
    "\n",
    "    \n",
    "solution([-6,-3,-2,-1,0,1,3,4,5,7,8,9,10,11,14,15,17,18,19,20])"
   ]
  },
  {
   "cell_type": "code",
   "execution_count": 35,
   "id": "e7598871-d592-4cd9-b645-c5ff80cc9689",
   "metadata": {},
   "outputs": [
    {
     "name": "stdout",
     "output_type": "stream",
     "text": [
      "-8\n",
      "0\n",
      "None\n",
      "10\n",
      "None\n",
      "0\n",
      "-8\n"
     ]
    }
   ],
   "source": [
    "# TODO: create the User class\n",
    "# it must support rank, progress, and the inc_progress(rank) method\n",
    "class User:\n",
    "    def __init__(self):\n",
    "        self.rank = -8\n",
    "        self.progress = 0\n",
    "\n",
    "    def _rank_to_index(self, rank):\n",
    "        return rank + 8 if rank > 0 else rank + 7\n",
    "\n",
    "    def _index_to_rank(self, index):\n",
    "        return index - 8 if index < 8 else index - 7\n",
    "\n",
    "    def inc_progress(self, task_rank):\n",
    "        if task_rank < -8 or task_rank == 0 or task_rank > 8:\n",
    "            raise ValueError(\"Invalid rank\")\n",
    "\n",
    "        if self.rank == 8:\n",
    "            return  # Max rank reached; no more progress\n",
    "\n",
    "        user_idx = self._rank_to_index(self.rank)\n",
    "        task_idx = self._rank_to_index(task_rank)\n",
    "        diff = task_idx - user_idx\n",
    "\n",
    "        if diff == 0:\n",
    "            self.progress += 3\n",
    "        elif diff == -1:\n",
    "            self.progress += 1\n",
    "        elif diff > 0:\n",
    "            self.progress += 10 * diff * diff\n",
    "        # if diff <= -2: gain nothing\n",
    "\n",
    "        while self.progress >= 100 and self.rank < 8:\n",
    "            self.progress -= 100\n",
    "            user_idx += 1\n",
    "            self.rank = self._index_to_rank(user_idx)\n",
    "            if self.rank == 0:\n",
    "                user_idx += 1\n",
    "                self.rank = self._index_to_rank(user_idx)\n",
    "\n",
    "        if self.rank == 8:\n",
    "            self.progress = 0\n",
    "\n",
    "\n",
    "\n",
    "\n",
    "user = User()\n",
    "print(user.rank) # => -8\n",
    "print(user.progress) # => 0\n",
    "print(user.inc_progress(-7))\n",
    "print(user.progress) # => 10\n",
    "print(user.inc_progress(-5)) # will add 90 progress\n",
    "print(user.progress) # => 0 # progress is now zero\n",
    "print(user.rank) # => -7 # rank was upgraded to -7\n"
   ]
  },
  {
   "cell_type": "code",
   "execution_count": null,
   "id": "e8b31623-7677-4b94-b4ad-252bf1716bfe",
   "metadata": {},
   "outputs": [],
   "source": []
  }
 ],
 "metadata": {
  "kernelspec": {
   "display_name": "Python 3 (ipykernel)",
   "language": "python",
   "name": "python3"
  },
  "language_info": {
   "codemirror_mode": {
    "name": "ipython",
    "version": 3
   },
   "file_extension": ".py",
   "mimetype": "text/x-python",
   "name": "python",
   "nbconvert_exporter": "python",
   "pygments_lexer": "ipython3",
   "version": "3.13.2"
  }
 },
 "nbformat": 4,
 "nbformat_minor": 5
}
