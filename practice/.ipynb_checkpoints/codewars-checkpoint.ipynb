{
 "cells": [
  {
   "cell_type": "code",
   "execution_count": 19,
   "id": "e5cda7b3-96c6-42ac-a0dd-a71f9837f18d",
   "metadata": {},
   "outputs": [
    {
     "data": {
      "text/plain": [
       "[[17, 18, 18, 19, 19, 20],\n",
       " -3,\n",
       " [17, 18, 18, 19, 19, 20],\n",
       " [17, 18, 18, 19, 19, 20],\n",
       " 3,\n",
       " [17, 18, 18, 19, 19, 20],\n",
       " [17, 18, 18, 19, 19, 20],\n",
       " 7,\n",
       " [17, 18, 18, 19, 19, 20],\n",
       " [17, 18, 18, 19, 19, 20],\n",
       " 14,\n",
       " [17, 18, 18, 19, 19, 20],\n",
       " [17, 18, 18, 19, 19, 20],\n",
       " 17]"
      ]
     },
     "execution_count": 19,
     "metadata": {},
     "output_type": "execute_result"
    }
   ],
   "source": [
    "def solution(args):\n",
    "    args2 = args[1:]\n",
    "    previous = args[0]\n",
    "    sublist = []\n",
    "    lst = []\n",
    "    for current in args2:\n",
    "        if current - previous == 1:\n",
    "            sublist.extend([previous,current])\n",
    "        else:\n",
    "            if len(sublist) > 1:\n",
    "                lst.append(sublist)\n",
    "            lst.append(current)\n",
    "            sublist.clear()    \n",
    "\n",
    "        previous = current\n",
    "\n",
    "    return lst\n",
    "\n",
    "solution([-6,-3,-2,-1,0,1,3,4,5,7,8,9,10,11,14,15,17,18,19,20])"
   ]
  },
  {
   "cell_type": "code",
   "execution_count": null,
   "id": "e7598871-d592-4cd9-b645-c5ff80cc9689",
   "metadata": {},
   "outputs": [],
   "source": []
  }
 ],
 "metadata": {
  "kernelspec": {
   "display_name": "Python 3 (ipykernel)",
   "language": "python",
   "name": "python3"
  },
  "language_info": {
   "codemirror_mode": {
    "name": "ipython",
    "version": 3
   },
   "file_extension": ".py",
   "mimetype": "text/x-python",
   "name": "python",
   "nbconvert_exporter": "python",
   "pygments_lexer": "ipython3",
   "version": "3.13.2"
  }
 },
 "nbformat": 4,
 "nbformat_minor": 5
}
