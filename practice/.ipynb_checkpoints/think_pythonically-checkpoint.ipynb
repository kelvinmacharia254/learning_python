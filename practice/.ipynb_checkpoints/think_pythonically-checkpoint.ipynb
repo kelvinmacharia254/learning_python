{
 "cells": [
  {
   "cell_type": "markdown",
   "id": "f5cc4bc9-ff5e-45c8-adb7-fcd5474d02a3",
   "metadata": {},
   "source": [
    "# Think pythonically\n",
    "\n",
    "In this notebook you will find example of python code on various concepts that will help you think pythonically.\n",
    "\n",
    "> GOAL\n",
    ">>  The goal is to write clean, expressive, and minimal code without losing clarity."
   ]
  },
  {
   "cell_type": "markdown",
   "id": "d2e48d63-e8b9-4169-a643-af1a93661d66",
   "metadata": {},
   "source": [
    "### 1. Minimizing conditionals\n",
    "\n",
    "Whenever you see,\n",
    "\n",
    "```\n",
    "    if condition:\n",
    "        return True\n",
    "    else:\n",
    "        return False\n",
    "```\n",
    "\n",
    "consider returning the condition itself. condition already evaluates to True or False anyways:"
   ]
  },
  {
   "cell_type": "code",
   "execution_count": 2,
   "id": "5585878d-3af1-4770-b3e5-478fd0b0bda4",
   "metadata": {},
   "outputs": [
    {
     "name": "stdout",
     "output_type": "stream",
     "text": [
      "is 4 an even number: True\n",
      "is 7 an even number: False\n"
     ]
    }
   ],
   "source": [
    "# Example 1: Create a function is_even that returns True if a number is even, otherwise False.\n",
    "def is_even(number):\n",
    "    if number%2== 0:\n",
    "        return True\n",
    "    else:\n",
    "        return False\n",
    "\n",
    "print(f\"is 4 an even number: {is_even(4)}\")\n",
    "print(f\"is 7 an even number: {is_even(7)}\")"
   ]
  },
  {
   "cell_type": "code",
   "execution_count": 5,
   "id": "1490b018-86c0-4fab-a267-896cf068a8e8",
   "metadata": {},
   "outputs": [
    {
     "name": "stdout",
     "output_type": "stream",
     "text": [
      "is 4 an even number: True\n",
      "is 7 an even number: False\n"
     ]
    }
   ],
   "source": [
    "# we can rewrite is_even() function simpler by returning the condition itself.\n",
    "def is_even(num):\n",
    "    return num % 2 == 0 # return condition itself\n",
    "\n",
    "print(f\"is 4 an even number: {is_even(4)}\")\n",
    "print(f\"is 7 an even number: {is_even(7)}\")\n",
    "\n",
    "# You will get same results"
   ]
  },
  {
   "cell_type": "code",
   "execution_count": null,
   "id": "255c27a7-bf67-48d5-9a91-73d0eee794e1",
   "metadata": {},
   "outputs": [],
   "source": []
  }
 ],
 "metadata": {
  "kernelspec": {
   "display_name": "Python 3 (ipykernel)",
   "language": "python",
   "name": "python3"
  },
  "language_info": {
   "codemirror_mode": {
    "name": "ipython",
    "version": 3
   },
   "file_extension": ".py",
   "mimetype": "text/x-python",
   "name": "python",
   "nbconvert_exporter": "python",
   "pygments_lexer": "ipython3",
   "version": "3.13.2"
  }
 },
 "nbformat": 4,
 "nbformat_minor": 5
}
