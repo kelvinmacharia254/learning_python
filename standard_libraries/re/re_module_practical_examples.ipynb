{
 "cells": [
  {
   "cell_type": "markdown",
   "id": "08a4cbaf-ca47-4d21-8394-03f41366ee1f",
   "metadata": {},
   "source": [
    "## re module examples"
   ]
  },
  {
   "cell_type": "markdown",
   "id": "799120da-86cd-4d6c-ae82-38d9d03ede6f",
   "metadata": {},
   "source": [
    "1.  Write a small script using re.search(), re.findall(), and re.sub() to modify text."
   ]
  },
  {
   "cell_type": "code",
   "execution_count": 2,
   "id": "2b1244af-9cf8-4d9e-8ec2-b076240f55ac",
   "metadata": {},
   "outputs": [
    {
     "name": "stdout",
     "output_type": "stream",
     "text": [
      "Original: Call 0114-846-762 for support, or 0723-495-109 for sales. My landline is 020-123456.\n",
      "Modified: Call +254114-846-762 for support, or +254723-495-109 for sales. My landline is 020-123456.\n",
      "\n",
      "Original: Some random text 123-456-789.\n",
      "Modified: Invalid phone number detected in the text.\n"
     ]
    }
   ],
   "source": [
    "\"\"\"\n",
    "Key concepts in this example:\n",
    "1. anchors\n",
    "2. non-capturing group\n",
    "3. use of search(), findall() and sub()\n",
    "4. using a replacer function with sub()\n",
    "\"\"\"\n",
    "\n",
    "import re\n",
    "\n",
    "def modify_phone_numbers(text, prefix_pattern, new_prefix):\n",
    "    phone_pattern = r\"0(?:7|1)\\d{2}-\\d{3}-\\d{3}\"\n",
    "\n",
    "    if re.search(phone_pattern, text):\n",
    "        # Optional: demonstrate findall by extracting all matches\n",
    "        _ = re.findall(phone_pattern, text) # Finds all, but result not used for main modification\n",
    "\n",
    "        # Define a function to handle each individual replacement\n",
    "        def replace_leading_zero(match_obj):\n",
    "            # Apply the specific '0' to '+254' transformation to the matched number\n",
    "            return re.sub(prefix_pattern, new_prefix, match_obj.group(0))\n",
    "\n",
    "        # alternative lambda replacer function\n",
    "        replacer_funct = lambda match_obj: re.sub(prefix_pattern, new_prefix, match_obj.group(0))\n",
    "\n",
    "        # Perform the main replacement using the callable for dynamic changes\n",
    "        return re.sub(phone_pattern,  replacer_funct, text)\n",
    "    else:\n",
    "        return \"Invalid phone number detected in the text.\"\n",
    "\n",
    "# Example Usage:\n",
    "original_text = \"Call 0114-846-762 for support, or 0723-495-109 for sales. My landline is 020-123456.\"\n",
    "print(f\"Original: {original_text}\")\n",
    "modified_text = modify_phone_numbers(original_text, \"^0\", \"+254\")\n",
    "print(f\"Modified: {modified_text}\")\n",
    "\n",
    "# Test with invalid input\n",
    "print(f\"\\nOriginal: Some random text 123-456-789.\")\n",
    "print(f\"Modified: {modify_phone_numbers('Some random text 123-456-789.', '^0', '+254')}\")"
   ]
  },
  {
   "cell_type": "markdown",
   "id": "07d74d62-a734-4ba6-9215-0019ab4337ec",
   "metadata": {},
   "source": [
    "2. Extract numbers from \"Order123 was placed on 2024-03-29\" using \\d+"
   ]
  },
  {
   "cell_type": "code",
   "execution_count": 2,
   "id": "cedcb909-2a22-4a5b-afb1-65673b0019aa",
   "metadata": {},
   "outputs": [
    {
     "data": {
      "text/plain": [
       "['123', '2024', '03', '29']"
      ]
     },
     "execution_count": 2,
     "metadata": {},
     "output_type": "execute_result"
    }
   ],
   "source": [
    "input_text = \"Order123 was placed on 2024-03-29\"\n",
    "re.findall(r'\\d+', input_text) "
   ]
  },
  {
   "cell_type": "markdown",
   "id": "6152d92f-34e0-4e28-8225-c328f5aeb84b",
   "metadata": {},
   "source": [
    "3. Extract words from \"Hello, World! Python_Regex\" using \\w+."
   ]
  },
  {
   "cell_type": "code",
   "execution_count": 3,
   "id": "1aed1bbc-c969-4754-bc55-96eef6be265b",
   "metadata": {},
   "outputs": [
    {
     "data": {
      "text/plain": [
       "['Hello', 'World', 'Python_Regex']"
      ]
     },
     "execution_count": 3,
     "metadata": {},
     "output_type": "execute_result"
    }
   ],
   "source": [
    "input_text = \"Hello, World! Python_Regex\"\n",
    "re.findall(r\"\\w+\", input_text)"
   ]
  },
  {
   "cell_type": "markdown",
   "id": "8fa3ea87-afff-48b1-8820-338f91e4e647",
   "metadata": {},
   "source": [
    "3. Test greedy vs non-greedy patterns on \"aaaab\" with a+ vs a+?"
   ]
  },
  {
   "cell_type": "code",
   "execution_count": 4,
   "id": "7dc92cc0-cac5-4aed-8547-81564caa6826",
   "metadata": {},
   "outputs": [
    {
     "data": {
      "text/plain": [
       "<re.Match object; span=(0, 1), match='a'>"
      ]
     },
     "execution_count": 4,
     "metadata": {},
     "output_type": "execute_result"
    }
   ],
   "source": [
    "input_text = \"ab\"\n",
    "re.search(r\"a+?\", input_text)"
   ]
  },
  {
   "cell_type": "markdown",
   "id": "9ea52beb-7a16-48b9-a7a7-ed4bbd0d20ad",
   "metadata": {},
   "source": [
    "4. Extract domains from emails like \"kelvin@example.com\" using @(.+)$."
   ]
  },
  {
   "cell_type": "code",
   "execution_count": 7,
   "id": "1f79820b-b2c2-418d-abdf-49bc18d32ec3",
   "metadata": {},
   "outputs": [
    {
     "name": "stdout",
     "output_type": "stream",
     "text": [
      "example.com\n"
     ]
    }
   ],
   "source": [
    "email =\"kelvin@example.com\" \n",
    "m = re.search(r\"@(.+)$\",email)\n",
    "if m:\n",
    "    print(m.group(1))\n",
    "else:\n",
    "    print(\"Invalid email format\")"
   ]
  },
  {
   "cell_type": "markdown",
   "id": "285135a3-1fc6-4f8f-aa49-bd7b15141ba4",
   "metadata": {},
   "source": [
    "5. Find repeated words in \"this is is a test\" using \\b(\\w+)\\b\\s+\\1."
   ]
  },
  {
   "cell_type": "code",
   "execution_count": 10,
   "id": "02a21bef-8ccf-4d2d-8228-a189a7dd257f",
   "metadata": {},
   "outputs": [
    {
     "data": {
      "text/plain": [
       "'is'"
      ]
     },
     "execution_count": 10,
     "metadata": {},
     "output_type": "execute_result"
    }
   ],
   "source": [
    "sentence = \"this is is a test\"\n",
    "m =  re.search(r\"\\b(\\w+)\\b\\s+\\1\" , sentence)\n",
    "m.group(1)"
   ]
  },
  {
   "cell_type": "code",
   "execution_count": 12,
   "id": "dbc7d857-226d-42f3-b7b9-0cb2aa2ce41f",
   "metadata": {},
   "outputs": [
    {
     "name": "stdout",
     "output_type": "stream",
     "text": [
      "['is']\n"
     ]
    }
   ],
   "source": [
    "matches = re.findall(r\"\\b(\\w+)\\b\\s+\\1\", sentence)\n",
    "print(matches)  # ['is']"
   ]
  },
  {
   "cell_type": "markdown",
   "id": "05fa60d4-2fa2-49b6-86ec-75ce52e43c0d",
   "metadata": {},
   "source": [
    "6. Validate dates (YYYY-MM-DD) using \\b\\d{4}-\\d{2}-\\d{2}\\b."
   ]
  },
  {
   "cell_type": "code",
   "execution_count": 22,
   "id": "d0beda38-0423-43f5-bbcf-4b3dbb259bfd",
   "metadata": {},
   "outputs": [
    {
     "name": "stdout",
     "output_type": "stream",
     "text": [
      "<re.Match object; span=(18, 28), match='2025-06-05'>\n"
     ]
    }
   ],
   "source": [
    "date = \"What happended on 2025-06-05? Can you remember anything?\"\n",
    "m = re.search(r\"\\b\\d{4}-\\d{2}-\\d{2}\\b\", date) # word bounderies with \\b\n",
    "print(m)"
   ]
  },
  {
   "cell_type": "markdown",
   "id": "09307624-24bb-47fb-82f9-7c1bd422b069",
   "metadata": {},
   "source": [
    "7. Extract email address from the address of a text"
   ]
  },
  {
   "cell_type": "code",
   "execution_count": 21,
   "id": "7b149ecc-a7b1-4c14-9ab0-4b193747d3ea",
   "metadata": {},
   "outputs": [
    {
     "name": "stdout",
     "output_type": "stream",
     "text": [
      "<re.Match object; span=(20, 42), match='pilotkelvin0@gmail.com'>\n"
     ]
    }
   ],
   "source": [
    "s = \"My email address is pilotkelvin0@gmail.com\"\n",
    "\n",
    "print(re.search(r\"(\\b[\\w.-]{3,25}@[\\w.-]+)\", s))"
   ]
  },
  {
   "cell_type": "markdown",
   "id": "d5606742-1dc8-4cc1-844e-bf6d0469f2f1",
   "metadata": {},
   "source": [
    "8. Extract phone numbers using\n"
   ]
  },
  {
   "cell_type": "code",
   "execution_count": 42,
   "id": "52890287-8f91-4d07-8636-a95700c5b1fa",
   "metadata": {},
   "outputs": [
    {
     "data": {
      "text/plain": [
       "['+1 800 1234',\n",
       " '+254-700-5678',\n",
       " '254.722.9988',\n",
       " '1234567890',\n",
       " '44-203-4567',\n",
       " '91 123 4567',\n",
       " '+33.612.4567',\n",
       " '+61-412-7890',\n",
       " '001 234 5678']"
      ]
     },
     "execution_count": 42,
     "metadata": {},
     "output_type": "execute_result"
    }
   ],
   "source": [
    "phone_pattern = re.compile(\"(\\+?\\d{1,3}[-.\\s]?\\d{3}[-.\\s]?\\d{4})\")\n",
    "\n",
    "import re\n",
    "\n",
    "phone_pattern = re.compile(\n",
    "    r\"\"\"\n",
    "    (\\+?\n",
    "    \\d{1,3}\n",
    "    [-.\\s]?\\d{3}\n",
    "    [-.\\s]?\n",
    "    \\d{4})\n",
    "    \"\"\"\n",
    "    , re.X)\n",
    "\n",
    "text = \"\"\"\n",
    "Contact us at:\n",
    "+1 800 1234\n",
    "+254-700-5678\n",
    "254.722.9988\n",
    "1234567890\n",
    "+44 20 1234\n",
    "44-203-4567\n",
    "91 123 4567\n",
    "+33.612.4567\n",
    "+61-412-7890\n",
    "001 234 5678\n",
    "\"\"\"\n",
    "\n",
    "matches = phone_pattern.findall(text)\n",
    "\n",
    "# for match in matches:\n",
    "#     print(match)\n",
    "matches"
   ]
  },
  {
   "cell_type": "markdown",
   "id": "a6da889c-30c1-483b-aa53-fdf2da24068c",
   "metadata": {},
   "source": [
    "9. Validate passwords"
   ]
  },
  {
   "cell_type": "code",
   "execution_count": 47,
   "id": "b4942921-4622-46c5-aaad-bd9e6e085813",
   "metadata": {},
   "outputs": [
    {
     "name": "stdout",
     "output_type": "stream",
     "text": [
      "Abcdefg1        → ✅ Valid\n",
      "Password1       → ✅ Valid\n",
      "Secure123A      → ✅ Valid\n",
      "A1b2c3d4        → ✅ Valid\n",
      "MyPass2024      → ✅ Valid\n",
      "Xyz789Pass      → ✅ Valid\n",
      "abcdefg1        → ❌ Invalid\n",
      "ABCDEFG1        → ❌ Invalid\n",
      "Password        → ❌ Invalid\n",
      "Pass1           → ❌ Invalid\n",
      "12345678        → ❌ Invalid\n",
      "abc123xyz       → ❌ Invalid\n",
      "ABC123XYZ       → ❌ Invalid\n"
     ]
    }
   ],
   "source": [
    "password_pattern = re.compile(\n",
    "    r\"\"\"\n",
    "    (?=.*\\d)     # atleast one digit\n",
    "    (?=.*[a-z])  # atleast on lowercase letter\n",
    "    (?=.*[A-Z])  # atleast one uppercase letter\n",
    "    .{8,}        # at least 8 characters\n",
    "    \"\"\"\n",
    "    , re.X)\n",
    "\n",
    "# List of test passwords\n",
    "test_passwords = [\n",
    "    # ✅ Valid passwords\n",
    "    \"Abcdefg1\",\n",
    "    \"Password1\",\n",
    "    \"Secure123A\",\n",
    "    \"A1b2c3d4\",\n",
    "    \"MyPass2024\",\n",
    "    \"Xyz789Pass\",\n",
    "    \n",
    "    # ❌ Invalid passwords\n",
    "    \"abcdefg1\",     # No uppercase\n",
    "    \"ABCDEFG1\",     # No lowercase\n",
    "    \"Password\",     # No digit\n",
    "    \"Pass1\",        # Too short\n",
    "    \"12345678\",     # No letters\n",
    "    \"abc123xyz\",    # No uppercase\n",
    "    \"ABC123XYZ\",    # No lowercase\n",
    "]\n",
    "\n",
    "# Validate each password\n",
    "for pwd in test_passwords:\n",
    "    is_valid = password_pattern.match(pwd)\n",
    "    status = \"✅ Valid\" if is_valid else \"❌ Invalid\"\n",
    "    print(f\"{pwd:15} → {status}\")"
   ]
  },
  {
   "cell_type": "markdown",
   "id": "88d9816f-24ce-4214-8875-d36c6e14a952",
   "metadata": {},
   "source": [
    "7. Find all IPv4 adressess in a log file"
   ]
  },
  {
   "cell_type": "code",
   "execution_count": 36,
   "id": "62c5f629-1ba2-4ebb-bd77-97567f00efe7",
   "metadata": {},
   "outputs": [
    {
     "data": {
      "text/plain": [
       "['192.168.1.10',\n",
       " '172.16.0.5',\n",
       " '10.0.0.12',\n",
       " '203.0.113.42',\n",
       " '8.8.8.8',\n",
       " '192.0.2.33',\n",
       " '198.51.100.7',\n",
       " '192.168.1.10',\n",
       " '123.45.67.89']"
      ]
     },
     "execution_count": 36,
     "metadata": {},
     "output_type": "execute_result"
    }
   ],
   "source": [
    "# example IPv4 address ranges from 0.0.0.0 to 256.256.256.256\n",
    "import re\n",
    "log_data = \"0.0.0.0 and 255.255.255.255\"\n",
    "log_data = \"\"\"\n",
    "2025-06-14 08:45:21 INFO User login from 192.168.1.10\n",
    "2025-06-14 08:46:02 WARN Failed login attempt from 172.16.0.5\n",
    "2025-06-14 08:47:35 INFO File uploaded by user from IP 10.0.0.123\n",
    "2025-06-14 08:49:00 ERROR Connection timeout from 203.0.113.42\n",
    "2025-06-14 08:50:10 DEBUG Ping received from 8.8.8.8\n",
    "2025-06-14 08:51:42 INFO New session started by 192.0.2.33\n",
    "2025-06-14 08:52:18 INFO Access granted to 198.51.100.7\n",
    "2025-06-14 08:53:00 INFO Logout by user at 192.168.1.10\n",
    "2025-06-14 08:54:20 WARN Suspicious activity from 123.45.67.89\n",
    "\"\"\"\n",
    "\n",
    "ipv4_pattern = r\"\"\"\n",
    "    (?:\n",
    "        (?:  \n",
    "            0\n",
    "            |[1-9][0-9]?     # 1 to 99\n",
    "            | 1[0-9]{2}      # 100 to 199\n",
    "            | 2[0-5]{2}      # 200 to 255\n",
    "        )\n",
    "    \\.\n",
    "    ){3}\n",
    "    (?:       \n",
    "            0\n",
    "            |[1-9][0-9]?     # 1 to 99\n",
    "            | 1[0-9]{2}      # 100 to 199\n",
    "            | 2[0-5]{2}      # 200 to 255\n",
    "    )\n",
    "    \"\"\"\n",
    "re.findall(ipv4_pattern, log_data, re.X)"
   ]
  },
  {
   "cell_type": "code",
   "execution_count": null,
   "id": "cc724d88-c525-47e1-bfbb-811e336d6a76",
   "metadata": {},
   "outputs": [],
   "source": [
    "\n"
   ]
  }
 ],
 "metadata": {
  "kernelspec": {
   "display_name": "Python 3 (ipykernel)",
   "language": "python",
   "name": "python3"
  },
  "language_info": {
   "codemirror_mode": {
    "name": "ipython",
    "version": 3
   },
   "file_extension": ".py",
   "mimetype": "text/x-python",
   "name": "python",
   "nbconvert_exporter": "python",
   "pygments_lexer": "ipython3",
   "version": "3.13.2"
  },
  "widgets": {
   "application/vnd.jupyter.widget-state+json": {
    "state": {},
    "version_major": 2,
    "version_minor": 0
   }
  }
 },
 "nbformat": 4,
 "nbformat_minor": 5
}
