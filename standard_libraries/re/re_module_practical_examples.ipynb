{
 "cells": [
  {
   "cell_type": "markdown",
   "id": "08a4cbaf-ca47-4d21-8394-03f41366ee1f",
   "metadata": {},
   "source": [
    "## re module examples"
   ]
  },
  {
   "cell_type": "code",
   "execution_count": 27,
   "id": "2b1244af-9cf8-4d9e-8ec2-b076240f55ac",
   "metadata": {},
   "outputs": [
    {
     "name": "stdout",
     "output_type": "stream",
     "text": [
      "Original: Call 0114-846-762 for support, or 0723-495-109 for sales. My landline is 020-123456.\n",
      "Modified: Call +254114-846-762 for support, or +254723-495-109 for sales. My landline is 020-123456.\n",
      "\n",
      "Original: Some random text 123-456-789.\n",
      "Modified: Invalid phone number detected in the text.\n"
     ]
    }
   ],
   "source": [
    "\"\"\"\n",
    "Key concepts in this example:\n",
    "1. anchors\n",
    "2. non-capturing group\n",
    "3. use of search(), findall() and sub()\n",
    "4. using a replacer function with sub()\n",
    "\"\"\"\n",
    "\n",
    "import re\n",
    "\n",
    "def modify_phone_numbers(text, prefix_pattern, new_prefix):\n",
    "    phone_pattern = r\"0(?:7|1)\\d{2}-\\d{3}-\\d{3}\"\n",
    "\n",
    "    if re.search(phone_pattern, text):\n",
    "        # Optional: demonstrate findall by extracting all matches\n",
    "        _ = re.findall(phone_pattern, text) # Finds all, but result not used for main modification\n",
    "\n",
    "        # Define a function to handle each individual replacement\n",
    "        def replace_leading_zero(match_obj):\n",
    "            # Apply the specific '0' to '+254' transformation to the matched number\n",
    "            return re.sub(prefix_pattern, new_prefix, match_obj.group(0))\n",
    "\n",
    "        # alternative lambda replacer function\n",
    "        replacer_funct = lambda match_obj: re.sub(prefix_pattern, new_prefix, match_obj.group(0))\n",
    "\n",
    "        # Perform the main replacement using the callable for dynamic changes\n",
    "        return re.sub(phone_pattern,  replacer_funct, text)\n",
    "    else:\n",
    "        return \"Invalid phone number detected in the text.\"\n",
    "\n",
    "# Example Usage:\n",
    "original_text = \"Call 0114-846-762 for support, or 0723-495-109 for sales. My landline is 020-123456.\"\n",
    "print(f\"Original: {original_text}\")\n",
    "modified_text = modify_phone_numbers(original_text, \"^0\", \"+254\")\n",
    "print(f\"Modified: {modified_text}\")\n",
    "\n",
    "# Test with invalid input\n",
    "print(f\"\\nOriginal: Some random text 123-456-789.\")\n",
    "print(f\"Modified: {modify_phone_numbers('Some random text 123-456-789.', '^0', '+254')}\")"
   ]
  },
  {
   "cell_type": "code",
   "execution_count": null,
   "id": "ea2242ea-7827-4c8c-9db2-94ac2c6525ae",
   "metadata": {},
   "outputs": [],
   "source": []
  }
 ],
 "metadata": {
  "kernelspec": {
   "display_name": "Python 3 (ipykernel)",
   "language": "python",
   "name": "python3"
  },
  "language_info": {
   "codemirror_mode": {
    "name": "ipython",
    "version": 3
   },
   "file_extension": ".py",
   "mimetype": "text/x-python",
   "name": "python",
   "nbconvert_exporter": "python",
   "pygments_lexer": "ipython3",
   "version": "3.13.2"
  },
  "widgets": {
   "application/vnd.jupyter.widget-state+json": {
    "state": {},
    "version_major": 2,
    "version_minor": 0
   }
  }
 },
 "nbformat": 4,
 "nbformat_minor": 5
}
