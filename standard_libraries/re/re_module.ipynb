{
 "cells": [
  {
   "cell_type": "code",
   "execution_count": 1,
   "id": "79bef7a6-89db-4e09-a40b-79e6c6a75a33",
   "metadata": {},
   "outputs": [
    {
     "data": {
      "text/plain": [
       "True"
      ]
     },
     "execution_count": 1,
     "metadata": {},
     "output_type": "execute_result"
    }
   ],
   "source": [
    "# Matching using the 'in' operator\n",
    "s = \"foo123bar\"\n",
    "\"123\" in s # True if present"
   ]
  },
  {
   "cell_type": "code",
   "execution_count": 2,
   "id": "cfe8b5dd-7f8d-4988-904e-3759be168de7",
   "metadata": {},
   "outputs": [
    {
     "data": {
      "text/plain": [
       "3"
      ]
     },
     "execution_count": 2,
     "metadata": {},
     "output_type": "execute_result"
    }
   ],
   "source": [
    "# Matching using string functions\n",
    "s = \"foo123bar\"\n",
    "s.find(\"123\") # return the start index of the substring"
   ]
  },
  {
   "cell_type": "code",
   "execution_count": 3,
   "id": "89fd5c25-71e3-4f1d-acb5-586f519f233f",
   "metadata": {},
   "outputs": [
    {
     "data": {
      "text/plain": [
       "3"
      ]
     },
     "execution_count": 3,
     "metadata": {},
     "output_type": "execute_result"
    }
   ],
   "source": [
    "# Matching using string functions\n",
    "s = \"foo123bar\"\n",
    "s.index(\"123\") # return the start index of the substring"
   ]
  },
  {
   "cell_type": "markdown",
   "id": "51e6a8ff-9912-4900-8b39-9b510887bfb2",
   "metadata": {},
   "source": [
    "The above cases are simple, this works but for more complex cases. The regex comes in handy."
   ]
  },
  {
   "cell_type": "markdown",
   "id": "f44ef0c0-4447-4d41-83a3-2bba584e6084",
   "metadata": {},
   "source": [
    "# The re Module\n",
    "\n",
    "re module is a standard library module, it provides this Regex functionality.\n",
    "\n",
    "## `re.search(<regex/>, <string>)`\n",
    "\n",
    "The search functon scans a string for the first location of regex match, if found it returns match object or None if note found.\n",
    "\n",
    "### Example: Simple case that work with the 'in' operator and string functions\n"
   ]
  },
  {
   "cell_type": "code",
   "execution_count": 4,
   "id": "3cc37fef-17bb-4487-b876-c397c6dae559",
   "metadata": {},
   "outputs": [
    {
     "data": {
      "text/plain": [
       "<re.Match object; span=(3, 6), match='123'>"
      ]
     },
     "execution_count": 4,
     "metadata": {},
     "output_type": "execute_result"
    }
   ],
   "source": [
    "# character by character match\n",
    "import re\n",
    "s = 'foo123bar'\n",
    "re.search(\"123\", s) # returns a match object if substring is found otherwise none"
   ]
  },
  {
   "cell_type": "code",
   "execution_count": 5,
   "id": "f819dfbc-cd44-43a5-9dcb-f166a8e5520a",
   "metadata": {},
   "outputs": [
    {
     "name": "stdout",
     "output_type": "stream",
     "text": [
      "Found a match\n"
     ]
    }
   ],
   "source": [
    "# match object is truthy, so it can be used in a Boolean context\n",
    "if re.search(\"123\", s):\n",
    "    print(\"Found a match\")\n",
    "else:\n",
    "    print(\"No match\")"
   ]
  },
  {
   "cell_type": "markdown",
   "id": "95bc8864-b1de-49b7-b7eb-b93d6f67134c",
   "metadata": {},
   "source": [
    "## Regex Metacharacters\n",
    "We can go a step higher with regex, instead of matching character by character we can use metacharacters to create flexible and \n",
    "generic patterns to be matched in the input strings.\n",
    "\n",
    "All regex metacharaters:\n",
    "1. dot(.) - matches any single characters except a newline\n",
    "2. Caret(^) - anchors a match at the begining of a string and complements a character class define by angle brackets\n",
    "3. Dollar($) - anchors a match at the end of a string.\n",
    "4. Asterisk(*) - Matches zero or more repetitions.\n",
    "5. Plus(+) - Matches one or more repetitions.\n",
    "6. Question Mark(?) - Matches zero or on repetiton.\n",
    "7. Curly braces - Matches an explicitly specified number of repetitions in between the braces\n",
    "8. Backslash(\\) - Escapes metacharacters meaning in regex\n",
    "9. Angle brackets ([]) - character class\n",
    "10. Pipe (|) -\n",
    "11. Brackets () - Creates a group.\n",
    "12. :, #, =, ! - Specilized group\n",
    "13. <> - creates named group\n",
    "\n",
    "## Regex metacharacters that match a single character\n",
    "\n",
    "### 1.  Square brackets ([])\n",
    "-  Square brackets [] defines a character class.  A character class matches any single character in the string"
   ]
  },
  {
   "cell_type": "code",
   "execution_count": 6,
   "id": "93a78a13-6cd5-4834-9b4e-07e31abb0223",
   "metadata": {},
   "outputs": [
    {
     "data": {
      "text/plain": [
       "<re.Match object; span=(3, 6), match='123'>"
      ]
     },
     "execution_count": 6,
     "metadata": {},
     "output_type": "execute_result"
    }
   ],
   "source": [
    "s = 'foo123bar'\n",
    "re.search('[0-9][0-9][0-9]', s) # generic pattern to match any three consecutive decimal digits"
   ]
  },
  {
   "cell_type": "code",
   "execution_count": 7,
   "id": "b11441a6-c9a2-4009-b575-e459506bf74f",
   "metadata": {},
   "outputs": [
    {
     "data": {
      "text/plain": [
       "<re.Match object; span=(3, 6), match='456'>"
      ]
     },
     "execution_count": 7,
     "metadata": {},
     "output_type": "execute_result"
    }
   ],
   "source": [
    "# works for any other string to find any three consecutive decimal digits\n",
    "s = 'foo456bar'\n",
    "re.search('[0-9][0-9][0-9]', s) # [0-9] is a range that matches a single character on the 0 to 9 range. "
   ]
  },
  {
   "cell_type": "code",
   "execution_count": 8,
   "id": "ba38cea1-17b6-437e-b392-a71607430b62",
   "metadata": {},
   "outputs": [
    {
     "name": "stdout",
     "output_type": "stream",
     "text": [
      "None\n"
     ]
    }
   ],
   "source": [
    "# None is returned if the string doesn't contain the pattern\n",
    "s = '12foo46bar'\n",
    "print(re.search('[0-9][0-9][0-9]', s)) "
   ]
  },
  {
   "cell_type": "code",
   "execution_count": 9,
   "id": "f1695442-7c19-4a21-ab2a-8dd676bbbbaf",
   "metadata": {},
   "outputs": [
    {
     "data": {
      "text/plain": [
       "<re.Match object; span=(0, 8), match='Goodluck'>"
      ]
     },
     "execution_count": 9,
     "metadata": {},
     "output_type": "execute_result"
    }
   ],
   "source": [
    "# alphabet range\n",
    "s = 'Goodluck'\n",
    "re.search('Good[a-z][a-z][a-z][a-z]', s) "
   ]
  },
  {
   "cell_type": "code",
   "execution_count": 10,
   "id": "ff8ca018-b948-4e17-b4ca-867554dcb06d",
   "metadata": {},
   "outputs": [
    {
     "data": {
      "text/plain": [
       "<re.Match object; span=(0, 1), match='k'>"
      ]
     },
     "execution_count": 10,
     "metadata": {},
     "output_type": "execute_result"
    }
   ],
   "source": [
    "# specific character match\n",
    "# The pattern finds whether the name has a single character which is 'k', 'c' or 'q' anywhere in the string\n",
    "s = \"kelvin\"\n",
    "re.search(\"[kcq]\",s) "
   ]
  },
  {
   "cell_type": "code",
   "execution_count": 11,
   "id": "50046a80-0560-4ccc-96c6-709eca1e0296",
   "metadata": {},
   "outputs": [
    {
     "data": {
      "text/plain": [
       "<re.Match object; span=(0, 1), match='c'>"
      ]
     },
     "execution_count": 11,
     "metadata": {},
     "output_type": "execute_result"
    }
   ],
   "source": [
    "# matches single first occcurence of any of the characters in the character class(leftmost possible match).\n",
    "s = \"celvink\"\n",
    "re.search(\"[kcq]\",s) "
   ]
  },
  {
   "cell_type": "code",
   "execution_count": 12,
   "id": "5ed08fde-e8a8-43bf-8be6-93534445a48f",
   "metadata": {},
   "outputs": [
    {
     "data": {
      "text/plain": [
       "<re.Match object; span=(3, 4), match='a'>"
      ]
     },
     "execution_count": 12,
     "metadata": {},
     "output_type": "execute_result"
    }
   ],
   "source": [
    "# muitiple range character class.\n",
    "s = \"---a0---\"\n",
    "re.search(\"[0-9a-zA-F]\",s) # matches any hexadecimal digit character in the string"
   ]
  },
  {
   "cell_type": "markdown",
   "id": "e83d7085-7d7a-4a66-a516-40ce3b24fbd4",
   "metadata": {},
   "source": [
    "As observed, this would be nearly impossible when using the 'in' operator or string methods."
   ]
  },
  {
   "cell_type": "markdown",
   "id": "28a39ee6-6a67-46ae-862c-a07e2d062bd0",
   "metadata": {},
   "source": [
    "Also we can complement a character class with other metacharacters\n",
    "\n",
    "### Complementing with caret ^"
   ]
  },
  {
   "cell_type": "code",
   "execution_count": 13,
   "id": "784c10b0-63d0-4707-a547-6c767019296a",
   "metadata": {},
   "outputs": [
    {
     "data": {
      "text/plain": [
       "<re.Match object; span=(3, 4), match='^'>"
      ]
     },
     "execution_count": 13,
     "metadata": {},
     "output_type": "execute_result"
    }
   ],
   "source": [
    "# Complementing a character class with caret ^\n",
    "re.search('[^0-9]', '12345foo') # matches any character that is not decimal digit \n",
    "# if the caret appears anywhere in the regex pattern except the first character, it has no special meaning, it is taken literally\n",
    "re.search('[#:^]', 'foo^bar:baz#qux') # caret appears found as the 4th character in the string"
   ]
  },
  {
   "cell_type": "markdown",
   "id": "b45ce914-065a-4a60-8ef5-df79a503d7a0",
   "metadata": {},
   "source": [
    "### Escaping metacharacter\n",
    "\n",
    "Sometimes we may want the metacharacters to match as literal characters not have special meaning."
   ]
  },
  {
   "cell_type": "code",
   "execution_count": 14,
   "id": "8a93c702-3853-4318-b46e-f2edf2a64231",
   "metadata": {},
   "outputs": [
    {
     "data": {
      "text/plain": [
       "<re.Match object; span=(3, 4), match='-'>"
      ]
     },
     "execution_count": 14,
     "metadata": {},
     "output_type": "execute_result"
    }
   ],
   "source": [
    "# Escaping character\n",
    "# hyphen is used to define a range in a character class but can also be required in the string\n",
    "# in search cases it should be defined as the first or last or escape it\n",
    "\n",
    "# define hyphen as first character\n",
    "re.search('[-abc]', '123-456') # match found at index 3"
   ]
  },
  {
   "cell_type": "code",
   "execution_count": 15,
   "id": "73144847-530c-40e7-b627-dc1ca5c71c5e",
   "metadata": {},
   "outputs": [
    {
     "data": {
      "text/plain": [
       "<re.Match object; span=(3, 4), match='-'>"
      ]
     },
     "execution_count": 15,
     "metadata": {},
     "output_type": "execute_result"
    }
   ],
   "source": [
    "# define hyphen as last character\n",
    "re.search('[abc-]', '123-456') # match found at index 3"
   ]
  },
  {
   "cell_type": "code",
   "execution_count": 16,
   "id": "efc4b4e6-52d9-4e4a-af5e-0fb441a91da6",
   "metadata": {},
   "outputs": [
    {
     "data": {
      "text/plain": [
       "<re.Match object; span=(3, 4), match='-'>"
      ]
     },
     "execution_count": 16,
     "metadata": {},
     "output_type": "execute_result"
    }
   ],
   "source": [
    "# escape hyphen using '\\' in the pattern\n",
    "re.search(r'[ab\\-c]', '123-456') # match found at index 3"
   ]
  },
  {
   "cell_type": "code",
   "execution_count": 21,
   "id": "78dbe71b-960a-4066-b58b-a6e8ee4e88de",
   "metadata": {},
   "outputs": [
    {
     "data": {
      "text/plain": [
       "<re.Match object; span=(1, 2), match='['>"
      ]
     },
     "execution_count": 21,
     "metadata": {},
     "output_type": "execute_result"
    }
   ],
   "source": [
    "# escape angle brackets by placing it first in the regex\n",
    "re.search('[[o]', 'f[oo1]') "
   ]
  },
  {
   "cell_type": "code",
   "execution_count": 24,
   "id": "6991ce84-0440-422e-9789-03034de38b16",
   "metadata": {},
   "outputs": [
    {
     "data": {
      "text/plain": [
       "<re.Match object; span=(1, 2), match=']'>"
      ]
     },
     "execution_count": 24,
     "metadata": {},
     "output_type": "execute_result"
    }
   ],
   "source": [
    "# escape angle brackets by using backslash\n",
    "re.search(r'[o\\]]', 'f]oo1]') "
   ]
  },
  {
   "cell_type": "markdown",
   "id": "caf546c9-21e6-4aed-b2ed-b86c68b2cfaa",
   "metadata": {},
   "source": [
    "### Metacharacters lose meaning inside a character class\n",
    "\n",
    "Metacharacters placed inside a character class have no special meaning and only match as themselves as literal characters."
   ]
  },
  {
   "cell_type": "code",
   "execution_count": 27,
   "id": "bcfec74c-ed23-48cb-b51d-1bbd5dbad00a",
   "metadata": {},
   "outputs": [
    {
     "data": {
      "text/plain": [
       "<re.Match object; span=(3, 4), match='*'>"
      ]
     },
     "execution_count": 27,
     "metadata": {},
     "output_type": "execute_result"
    }
   ],
   "source": [
    "re.search('[)*+|]', '123*456') # '*' is found in the string as literal at index 3"
   ]
  },
  {
   "cell_type": "code",
   "execution_count": 28,
   "id": "112c7bd9-cd5d-4fd3-81c5-4cc518b415c2",
   "metadata": {},
   "outputs": [
    {
     "data": {
      "text/plain": [
       "<re.Match object; span=(3, 4), match='+'>"
      ]
     },
     "execution_count": 28,
     "metadata": {},
     "output_type": "execute_result"
    }
   ],
   "source": [
    "re.search('[)*+|]', '123+456') # '+' is found in the string as literal at index 3"
   ]
  },
  {
   "cell_type": "markdown",
   "id": "421b9d29-beab-4823-b0f9-d5d251f37ea6",
   "metadata": {},
   "source": [
    "### 2.  dot (.)\n",
    "-  The dot matches any single charater except a newline."
   ]
  },
  {
   "cell_type": "code",
   "execution_count": 18,
   "id": "f1a20497-592e-41a6-8089-2d7ad6b895b5",
   "metadata": {},
   "outputs": [
    {
     "data": {
      "text/plain": [
       "<re.Match object; span=(3, 6), match='123'>"
      ]
     },
     "execution_count": 18,
     "metadata": {},
     "output_type": "execute_result"
    }
   ],
   "source": [
    "s = 'foo123bar'\n",
    "re.search('1.3', s) # matches because 1 & 3 and there is a character in between which is not a newline"
   ]
  },
  {
   "cell_type": "code",
   "execution_count": 19,
   "id": "f34163e0-8a6a-4c13-9034-1023c018c56c",
   "metadata": {},
   "outputs": [
    {
     "name": "stdout",
     "output_type": "stream",
     "text": [
      "None\n"
     ]
    }
   ],
   "source": [
    "s = 'foo13bar'\n",
    "print(re.search('1.3', s)) # return None because there is no character between 1 & 3 in the string"
   ]
  },
  {
   "cell_type": "code",
   "execution_count": null,
   "id": "66c75cdb-850d-4b00-bb6e-aaaca758bf0a",
   "metadata": {},
   "outputs": [],
   "source": []
  }
 ],
 "metadata": {
  "kernelspec": {
   "display_name": "Python 3 (ipykernel)",
   "language": "python",
   "name": "python3"
  },
  "language_info": {
   "codemirror_mode": {
    "name": "ipython",
    "version": 3
   },
   "file_extension": ".py",
   "mimetype": "text/x-python",
   "name": "python",
   "nbconvert_exporter": "python",
   "pygments_lexer": "ipython3",
   "version": "3.13.2"
  }
 },
 "nbformat": 4,
 "nbformat_minor": 5
}
